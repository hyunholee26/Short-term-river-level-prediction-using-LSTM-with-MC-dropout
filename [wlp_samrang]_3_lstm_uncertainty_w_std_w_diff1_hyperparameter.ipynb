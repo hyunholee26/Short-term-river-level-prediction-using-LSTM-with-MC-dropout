{
  "nbformat": 4,
  "nbformat_minor": 0,
  "metadata": {
    "accelerator": "GPU",
    "colab": {
      "name": "[wlp-samrang] 3.lstm uncertainty w/ std w diff1-hyperparameter.ipynb",
      "provenance": [],
      "collapsed_sections": [],
      "machine_shape": "hm",
      "authorship_tag": "ABX9TyPsitl0PxfLQAWlkGGB/cEp",
      "include_colab_link": true
    },
    "kernelspec": {
      "display_name": "Python 3",
      "name": "python3"
    },
    "language_info": {
      "name": "python"
    }
  },
  "cells": [
    {
      "cell_type": "markdown",
      "metadata": {
        "id": "view-in-github",
        "colab_type": "text"
      },
      "source": [
        "<a href=\"https://colab.research.google.com/github/hyunholee26/short-term-river-level-prediction-using-LSTM-with-MC-dropout/blob/main/%5Bwlp_samrang%5D_3_lstm_uncertainty_w_std_w_diff1_hyperparameter.ipynb\" target=\"_parent\"><img src=\"https://colab.research.google.com/assets/colab-badge.svg\" alt=\"Open In Colab\"/></a>"
      ]
    },
    {
      "cell_type": "code",
      "metadata": {
        "colab": {
          "base_uri": "https://localhost:8080/"
        },
        "id": "x19nLrSKUIBD",
        "outputId": "983d6a1e-c45a-4094-8ffe-7ce7321aa30c"
      },
      "source": [
        "# 구글 드라이브 연결\n",
        "from google.colab import drive\n",
        "drive.mount('/content/drive')"
      ],
      "execution_count": null,
      "outputs": [
        {
          "output_type": "stream",
          "name": "stdout",
          "text": [
            "Mounted at /content/drive\n"
          ]
        }
      ]
    },
    {
      "cell_type": "code",
      "metadata": {
        "colab": {
          "base_uri": "https://localhost:8080/",
          "height": 388
        },
        "id": "-RwemPkOUVuM",
        "outputId": "38359291-6352-45d0-b097-ab531d81f90e"
      },
      "source": [
        "# 딥러닝 모형 학습을 위한 기능 import\n",
        "# -*- coding: utf-8 -*-\n",
        "%tensorflow_version 1.x\n",
        "import tensorflow as tf\n",
        "\n",
        "import pandas as pd\n",
        "import numpy as np\n",
        "\n",
        "import datetime\n",
        "import os\n",
        "import glob\n",
        "\n",
        "import matplotlib.pyplot as plt\n",
        "\n",
        "from keras.models import Sequential\n",
        "from keras.models import Model\n",
        "\n",
        "from keras import layers\n",
        "from keras.layers import *\n",
        "from keras.regularizers import l1, l2\n",
        "from keras.callbacks import EarlyStopping\n",
        "from keras import backend as K\n",
        "from keras.optimizers import Adam\n",
        "\n",
        "from pickle import dump, load\n",
        "from sklearn.preprocessing import MinMaxScaler\n",
        "from scipy import stats\n",
        "\n",
        "from statsmodels.distributions.empirical_distribution import ECDF\n",
        "!pip install h5py==2.10.0\n",
        "\n",
        "%matplotlib inline\n",
        "print(tf.__version__)\n"
      ],
      "execution_count": null,
      "outputs": [
        {
          "output_type": "stream",
          "name": "stdout",
          "text": [
            "TensorFlow 1.x selected.\n"
          ]
        },
        {
          "output_type": "stream",
          "name": "stderr",
          "text": [
            "Using TensorFlow backend.\n",
            "/usr/local/lib/python3.7/dist-packages/statsmodels/tools/_testing.py:19: FutureWarning: pandas.util.testing is deprecated. Use the functions in the public API at pandas.testing instead.\n",
            "  import pandas.util.testing as tm\n"
          ]
        },
        {
          "output_type": "stream",
          "name": "stdout",
          "text": [
            "Collecting h5py==2.10.0\n",
            "  Downloading h5py-2.10.0-cp37-cp37m-manylinux1_x86_64.whl (2.9 MB)\n",
            "\u001b[K     |████████████████████████████████| 2.9 MB 7.6 MB/s \n",
            "\u001b[?25hRequirement already satisfied: numpy>=1.7 in /usr/local/lib/python3.7/dist-packages (from h5py==2.10.0) (1.19.5)\n",
            "Requirement already satisfied: six in /usr/local/lib/python3.7/dist-packages (from h5py==2.10.0) (1.15.0)\n",
            "Installing collected packages: h5py\n",
            "  Attempting uninstall: h5py\n",
            "    Found existing installation: h5py 3.1.0\n",
            "    Uninstalling h5py-3.1.0:\n",
            "      Successfully uninstalled h5py-3.1.0\n",
            "Successfully installed h5py-2.10.0\n"
          ]
        },
        {
          "output_type": "display_data",
          "data": {
            "application/vnd.colab-display-data+json": {
              "pip_warning": {
                "packages": [
                  "h5py"
                ]
              }
            }
          },
          "metadata": {}
        },
        {
          "output_type": "stream",
          "name": "stdout",
          "text": [
            "1.15.2\n"
          ]
        }
      ]
    },
    {
      "cell_type": "code",
      "metadata": {
        "colab": {
          "base_uri": "https://localhost:8080/",
          "height": 511
        },
        "id": "M9b3Hwo0UghT",
        "outputId": "c8ecbbaf-cba5-4e71-f49e-7c46bcedb309"
      },
      "source": [
        "# 14년1월 ~ 21년 6월까지 데이터를 활용\n",
        "# openAPI를 통해 6개월 단위로 수집가능함에 따라, 병합처리 필요\n",
        "\n",
        "path = '/content/drive/MyDrive/data/flood/'\n",
        "\n",
        "raw_period = {'startdt': ['20140101', '20140701', '20150101', '20150701', '20160101', '20160701', '20170101', '20170701', '20180101', '20180701', '20190101', '20190701', '20200101', '20200701', '20210101'],\n",
        "                'enddt': ['20140630', '20141231', '20150630', '20151231', '20160630', '20161231', '20170630', '20171231', '20180630', '20181231', '20190630', '20191231', '20200630', '20201231', '20210630']}\n",
        "\n",
        "df_period = pd.DataFrame(raw_period)\n",
        "df_period"
      ],
      "execution_count": null,
      "outputs": [
        {
          "output_type": "execute_result",
          "data": {
            "text/html": [
              "<div>\n",
              "<style scoped>\n",
              "    .dataframe tbody tr th:only-of-type {\n",
              "        vertical-align: middle;\n",
              "    }\n",
              "\n",
              "    .dataframe tbody tr th {\n",
              "        vertical-align: top;\n",
              "    }\n",
              "\n",
              "    .dataframe thead th {\n",
              "        text-align: right;\n",
              "    }\n",
              "</style>\n",
              "<table border=\"1\" class=\"dataframe\">\n",
              "  <thead>\n",
              "    <tr style=\"text-align: right;\">\n",
              "      <th></th>\n",
              "      <th>startdt</th>\n",
              "      <th>enddt</th>\n",
              "    </tr>\n",
              "  </thead>\n",
              "  <tbody>\n",
              "    <tr>\n",
              "      <th>0</th>\n",
              "      <td>20140101</td>\n",
              "      <td>20140630</td>\n",
              "    </tr>\n",
              "    <tr>\n",
              "      <th>1</th>\n",
              "      <td>20140701</td>\n",
              "      <td>20141231</td>\n",
              "    </tr>\n",
              "    <tr>\n",
              "      <th>2</th>\n",
              "      <td>20150101</td>\n",
              "      <td>20150630</td>\n",
              "    </tr>\n",
              "    <tr>\n",
              "      <th>3</th>\n",
              "      <td>20150701</td>\n",
              "      <td>20151231</td>\n",
              "    </tr>\n",
              "    <tr>\n",
              "      <th>4</th>\n",
              "      <td>20160101</td>\n",
              "      <td>20160630</td>\n",
              "    </tr>\n",
              "    <tr>\n",
              "      <th>5</th>\n",
              "      <td>20160701</td>\n",
              "      <td>20161231</td>\n",
              "    </tr>\n",
              "    <tr>\n",
              "      <th>6</th>\n",
              "      <td>20170101</td>\n",
              "      <td>20170630</td>\n",
              "    </tr>\n",
              "    <tr>\n",
              "      <th>7</th>\n",
              "      <td>20170701</td>\n",
              "      <td>20171231</td>\n",
              "    </tr>\n",
              "    <tr>\n",
              "      <th>8</th>\n",
              "      <td>20180101</td>\n",
              "      <td>20180630</td>\n",
              "    </tr>\n",
              "    <tr>\n",
              "      <th>9</th>\n",
              "      <td>20180701</td>\n",
              "      <td>20181231</td>\n",
              "    </tr>\n",
              "    <tr>\n",
              "      <th>10</th>\n",
              "      <td>20190101</td>\n",
              "      <td>20190630</td>\n",
              "    </tr>\n",
              "    <tr>\n",
              "      <th>11</th>\n",
              "      <td>20190701</td>\n",
              "      <td>20191231</td>\n",
              "    </tr>\n",
              "    <tr>\n",
              "      <th>12</th>\n",
              "      <td>20200101</td>\n",
              "      <td>20200630</td>\n",
              "    </tr>\n",
              "    <tr>\n",
              "      <th>13</th>\n",
              "      <td>20200701</td>\n",
              "      <td>20201231</td>\n",
              "    </tr>\n",
              "    <tr>\n",
              "      <th>14</th>\n",
              "      <td>20210101</td>\n",
              "      <td>20210630</td>\n",
              "    </tr>\n",
              "  </tbody>\n",
              "</table>\n",
              "</div>"
            ],
            "text/plain": [
              "     startdt     enddt\n",
              "0   20140101  20140630\n",
              "1   20140701  20141231\n",
              "2   20150101  20150630\n",
              "3   20150701  20151231\n",
              "4   20160101  20160630\n",
              "5   20160701  20161231\n",
              "6   20170101  20170630\n",
              "7   20170701  20171231\n",
              "8   20180101  20180630\n",
              "9   20180701  20181231\n",
              "10  20190101  20190630\n",
              "11  20190701  20191231\n",
              "12  20200101  20200630\n",
              "13  20200701  20201231\n",
              "14  20210101  20210630"
            ]
          },
          "metadata": {},
          "execution_count": 3
        }
      ]
    },
    {
      "cell_type": "code",
      "metadata": {
        "colab": {
          "base_uri": "https://localhost:8080/",
          "height": 326
        },
        "id": "1RuDGBJrUbxB",
        "outputId": "07f9c326-6d28-4cd7-f649-9c6a43689e33"
      },
      "source": [
        "raw_obscd = {'obscd': ['2022610', '2020675', '2020650', '2021685', '2020680', '20224050', '20204020', '20204030', '20214020'],\n",
        "            'desc': ['wl밀양시 삼랑진교', 'wl창원시 수산대교','wl창녕군 청암리','wl밀양시 남포동', 'wl김해시 오서교', 'rf밀양시 삼랑진교', 'rf창원시 수산대교', 'rf창녕군 청암리', 'rf밀양시 남포동']}\n",
        "\n",
        "df_obscd = pd.DataFrame(raw_obscd)\n",
        "df_obscd"
      ],
      "execution_count": null,
      "outputs": [
        {
          "output_type": "execute_result",
          "data": {
            "text/html": [
              "<div>\n",
              "<style scoped>\n",
              "    .dataframe tbody tr th:only-of-type {\n",
              "        vertical-align: middle;\n",
              "    }\n",
              "\n",
              "    .dataframe tbody tr th {\n",
              "        vertical-align: top;\n",
              "    }\n",
              "\n",
              "    .dataframe thead th {\n",
              "        text-align: right;\n",
              "    }\n",
              "</style>\n",
              "<table border=\"1\" class=\"dataframe\">\n",
              "  <thead>\n",
              "    <tr style=\"text-align: right;\">\n",
              "      <th></th>\n",
              "      <th>obscd</th>\n",
              "      <th>desc</th>\n",
              "    </tr>\n",
              "  </thead>\n",
              "  <tbody>\n",
              "    <tr>\n",
              "      <th>0</th>\n",
              "      <td>2022610</td>\n",
              "      <td>wl밀양시 삼랑진교</td>\n",
              "    </tr>\n",
              "    <tr>\n",
              "      <th>1</th>\n",
              "      <td>2020675</td>\n",
              "      <td>wl창원시 수산대교</td>\n",
              "    </tr>\n",
              "    <tr>\n",
              "      <th>2</th>\n",
              "      <td>2020650</td>\n",
              "      <td>wl창녕군 청암리</td>\n",
              "    </tr>\n",
              "    <tr>\n",
              "      <th>3</th>\n",
              "      <td>2021685</td>\n",
              "      <td>wl밀양시 남포동</td>\n",
              "    </tr>\n",
              "    <tr>\n",
              "      <th>4</th>\n",
              "      <td>2020680</td>\n",
              "      <td>wl김해시 오서교</td>\n",
              "    </tr>\n",
              "    <tr>\n",
              "      <th>5</th>\n",
              "      <td>20224050</td>\n",
              "      <td>rf밀양시 삼랑진교</td>\n",
              "    </tr>\n",
              "    <tr>\n",
              "      <th>6</th>\n",
              "      <td>20204020</td>\n",
              "      <td>rf창원시 수산대교</td>\n",
              "    </tr>\n",
              "    <tr>\n",
              "      <th>7</th>\n",
              "      <td>20204030</td>\n",
              "      <td>rf창녕군 청암리</td>\n",
              "    </tr>\n",
              "    <tr>\n",
              "      <th>8</th>\n",
              "      <td>20214020</td>\n",
              "      <td>rf밀양시 남포동</td>\n",
              "    </tr>\n",
              "  </tbody>\n",
              "</table>\n",
              "</div>"
            ],
            "text/plain": [
              "      obscd        desc\n",
              "0   2022610  wl밀양시 삼랑진교\n",
              "1   2020675  wl창원시 수산대교\n",
              "2   2020650   wl창녕군 청암리\n",
              "3   2021685   wl밀양시 남포동\n",
              "4   2020680   wl김해시 오서교\n",
              "5  20224050  rf밀양시 삼랑진교\n",
              "6  20204020  rf창원시 수산대교\n",
              "7  20204030   rf창녕군 청암리\n",
              "8  20214020   rf밀양시 남포동"
            ]
          },
          "metadata": {},
          "execution_count": 4
        }
      ]
    },
    {
      "cell_type": "code",
      "metadata": {
        "colab": {
          "base_uri": "https://localhost:8080/",
          "height": 417
        },
        "id": "w-elifk_UkdR",
        "outputId": "9e0035b3-7f7a-4005-f116-83db4cfe4766"
      },
      "source": [
        "# 기준이 되는 Date를 생성함\n",
        "\n",
        "start = datetime.datetime.strptime(\"2015050101\", \"%Y%m%d%H\")\n",
        "end = datetime.datetime.strptime(\"2020110123\", \"%Y%m%d%H\")\n",
        "date_generated = [start + datetime.timedelta(hours=x) for x in range(0, (end-start).days * 24 + 23)]\n",
        "\n",
        "df = pd.DataFrame(date_generated, columns =['Date'])\n",
        "df['ymdh'] = df['Date'].apply(lambda x: int(x.strftime('%Y%m%d%H'))) \n",
        "df"
      ],
      "execution_count": null,
      "outputs": [
        {
          "output_type": "execute_result",
          "data": {
            "text/html": [
              "<div>\n",
              "<style scoped>\n",
              "    .dataframe tbody tr th:only-of-type {\n",
              "        vertical-align: middle;\n",
              "    }\n",
              "\n",
              "    .dataframe tbody tr th {\n",
              "        vertical-align: top;\n",
              "    }\n",
              "\n",
              "    .dataframe thead th {\n",
              "        text-align: right;\n",
              "    }\n",
              "</style>\n",
              "<table border=\"1\" class=\"dataframe\">\n",
              "  <thead>\n",
              "    <tr style=\"text-align: right;\">\n",
              "      <th></th>\n",
              "      <th>Date</th>\n",
              "      <th>ymdh</th>\n",
              "    </tr>\n",
              "  </thead>\n",
              "  <tbody>\n",
              "    <tr>\n",
              "      <th>0</th>\n",
              "      <td>2015-05-01 01:00:00</td>\n",
              "      <td>2015050101</td>\n",
              "    </tr>\n",
              "    <tr>\n",
              "      <th>1</th>\n",
              "      <td>2015-05-01 02:00:00</td>\n",
              "      <td>2015050102</td>\n",
              "    </tr>\n",
              "    <tr>\n",
              "      <th>2</th>\n",
              "      <td>2015-05-01 03:00:00</td>\n",
              "      <td>2015050103</td>\n",
              "    </tr>\n",
              "    <tr>\n",
              "      <th>3</th>\n",
              "      <td>2015-05-01 04:00:00</td>\n",
              "      <td>2015050104</td>\n",
              "    </tr>\n",
              "    <tr>\n",
              "      <th>4</th>\n",
              "      <td>2015-05-01 05:00:00</td>\n",
              "      <td>2015050105</td>\n",
              "    </tr>\n",
              "    <tr>\n",
              "      <th>...</th>\n",
              "      <td>...</td>\n",
              "      <td>...</td>\n",
              "    </tr>\n",
              "    <tr>\n",
              "      <th>48282</th>\n",
              "      <td>2020-11-01 19:00:00</td>\n",
              "      <td>2020110119</td>\n",
              "    </tr>\n",
              "    <tr>\n",
              "      <th>48283</th>\n",
              "      <td>2020-11-01 20:00:00</td>\n",
              "      <td>2020110120</td>\n",
              "    </tr>\n",
              "    <tr>\n",
              "      <th>48284</th>\n",
              "      <td>2020-11-01 21:00:00</td>\n",
              "      <td>2020110121</td>\n",
              "    </tr>\n",
              "    <tr>\n",
              "      <th>48285</th>\n",
              "      <td>2020-11-01 22:00:00</td>\n",
              "      <td>2020110122</td>\n",
              "    </tr>\n",
              "    <tr>\n",
              "      <th>48286</th>\n",
              "      <td>2020-11-01 23:00:00</td>\n",
              "      <td>2020110123</td>\n",
              "    </tr>\n",
              "  </tbody>\n",
              "</table>\n",
              "<p>48287 rows × 2 columns</p>\n",
              "</div>"
            ],
            "text/plain": [
              "                     Date        ymdh\n",
              "0     2015-05-01 01:00:00  2015050101\n",
              "1     2015-05-01 02:00:00  2015050102\n",
              "2     2015-05-01 03:00:00  2015050103\n",
              "3     2015-05-01 04:00:00  2015050104\n",
              "4     2015-05-01 05:00:00  2015050105\n",
              "...                   ...         ...\n",
              "48282 2020-11-01 19:00:00  2020110119\n",
              "48283 2020-11-01 20:00:00  2020110120\n",
              "48284 2020-11-01 21:00:00  2020110121\n",
              "48285 2020-11-01 22:00:00  2020110122\n",
              "48286 2020-11-01 23:00:00  2020110123\n",
              "\n",
              "[48287 rows x 2 columns]"
            ]
          },
          "metadata": {},
          "execution_count": 5
        }
      ]
    },
    {
      "cell_type": "code",
      "metadata": {
        "colab": {
          "base_uri": "https://localhost:8080/"
        },
        "id": "AOcZ8wfaUdIL",
        "outputId": "c2377b59-d8ba-4f65-d525-ee8cc781ce1d"
      },
      "source": [
        "# 앞에서 만든 데이터프레임을 이용하여, 각 파일들을 읽고 합치는 작업을 함\n",
        "\n",
        "for i, row_i in df_obscd.iterrows():\n",
        "  obscd = row_i['obscd']   \n",
        "  \n",
        "  files = glob.glob(path + '*' + obscd + '*.csv')\n",
        "  files.sort()\n",
        "  print(files)\n",
        "  \n",
        "  # Read files\n",
        "  for index, file in enumerate(files):\n",
        "    #print('Reading files ... : ' + file)\n",
        "    try:\n",
        "      if(index == 0):\n",
        "        df_wl = pd.read_csv(file)\n",
        "      else:\n",
        "        temp = pd.read_csv(file)\n",
        "        df_wl = df_wl.append(temp)\n",
        "    except:\n",
        "      print('Pass file : ' + file)\n",
        "      continue\n",
        "  df_wl.columns = ['ymdh', obscd]\n",
        "  df = df.merge(df_wl, how='left', on = 'ymdh')\n",
        "  #display(df)"
      ],
      "execution_count": null,
      "outputs": [
        {
          "output_type": "stream",
          "name": "stdout",
          "text": [
            "['/content/drive/MyDrive/data/flood/wl_2022610_20140101_20140630.csv', '/content/drive/MyDrive/data/flood/wl_2022610_20140701_20141231.csv', '/content/drive/MyDrive/data/flood/wl_2022610_20150101_20150630.csv', '/content/drive/MyDrive/data/flood/wl_2022610_20150701_20151231.csv', '/content/drive/MyDrive/data/flood/wl_2022610_20160101_20160630.csv', '/content/drive/MyDrive/data/flood/wl_2022610_20160701_20161231.csv', '/content/drive/MyDrive/data/flood/wl_2022610_20170101_20170630.csv', '/content/drive/MyDrive/data/flood/wl_2022610_20170701_20171231.csv', '/content/drive/MyDrive/data/flood/wl_2022610_20180101_20180630.csv', '/content/drive/MyDrive/data/flood/wl_2022610_20180701_20181231.csv', '/content/drive/MyDrive/data/flood/wl_2022610_20190101_20190630.csv', '/content/drive/MyDrive/data/flood/wl_2022610_20190701_20191231.csv', '/content/drive/MyDrive/data/flood/wl_2022610_20200101_20200630.csv', '/content/drive/MyDrive/data/flood/wl_2022610_20200701_20201231.csv', '/content/drive/MyDrive/data/flood/wl_2022610_20210101_20210630.csv']\n",
            "['/content/drive/MyDrive/data/flood/wl_2020675_20140101_20140630.csv', '/content/drive/MyDrive/data/flood/wl_2020675_20140701_20141231.csv', '/content/drive/MyDrive/data/flood/wl_2020675_20150101_20150630.csv', '/content/drive/MyDrive/data/flood/wl_2020675_20150701_20151231.csv', '/content/drive/MyDrive/data/flood/wl_2020675_20160101_20160630.csv', '/content/drive/MyDrive/data/flood/wl_2020675_20160701_20161231.csv', '/content/drive/MyDrive/data/flood/wl_2020675_20170101_20170630.csv', '/content/drive/MyDrive/data/flood/wl_2020675_20170701_20171231.csv', '/content/drive/MyDrive/data/flood/wl_2020675_20180101_20180630.csv', '/content/drive/MyDrive/data/flood/wl_2020675_20180701_20181231.csv', '/content/drive/MyDrive/data/flood/wl_2020675_20190101_20190630.csv', '/content/drive/MyDrive/data/flood/wl_2020675_20190701_20191231.csv', '/content/drive/MyDrive/data/flood/wl_2020675_20200101_20200630.csv', '/content/drive/MyDrive/data/flood/wl_2020675_20200701_20201231.csv', '/content/drive/MyDrive/data/flood/wl_2020675_20210101_20210630.csv']\n",
            "['/content/drive/MyDrive/data/flood/wl_2020650_20140101_20140630.csv', '/content/drive/MyDrive/data/flood/wl_2020650_20140701_20141231.csv', '/content/drive/MyDrive/data/flood/wl_2020650_20150101_20150630.csv', '/content/drive/MyDrive/data/flood/wl_2020650_20150701_20151231.csv', '/content/drive/MyDrive/data/flood/wl_2020650_20160101_20160630.csv', '/content/drive/MyDrive/data/flood/wl_2020650_20160701_20161231.csv', '/content/drive/MyDrive/data/flood/wl_2020650_20170101_20170630.csv', '/content/drive/MyDrive/data/flood/wl_2020650_20170701_20171231.csv', '/content/drive/MyDrive/data/flood/wl_2020650_20180101_20180630.csv', '/content/drive/MyDrive/data/flood/wl_2020650_20180701_20181231.csv', '/content/drive/MyDrive/data/flood/wl_2020650_20190101_20190630.csv', '/content/drive/MyDrive/data/flood/wl_2020650_20190701_20191231.csv', '/content/drive/MyDrive/data/flood/wl_2020650_20200101_20200630.csv', '/content/drive/MyDrive/data/flood/wl_2020650_20200701_20201231.csv', '/content/drive/MyDrive/data/flood/wl_2020650_20210101_20210630.csv']\n",
            "['/content/drive/MyDrive/data/flood/wl_2021685_20140101_20140630.csv', '/content/drive/MyDrive/data/flood/wl_2021685_20140701_20141231.csv', '/content/drive/MyDrive/data/flood/wl_2021685_20150101_20150630.csv', '/content/drive/MyDrive/data/flood/wl_2021685_20150701_20151231.csv', '/content/drive/MyDrive/data/flood/wl_2021685_20160101_20160630.csv', '/content/drive/MyDrive/data/flood/wl_2021685_20160701_20161231.csv', '/content/drive/MyDrive/data/flood/wl_2021685_20170101_20170630.csv', '/content/drive/MyDrive/data/flood/wl_2021685_20170701_20171231.csv', '/content/drive/MyDrive/data/flood/wl_2021685_20180101_20180630.csv', '/content/drive/MyDrive/data/flood/wl_2021685_20180701_20181231.csv', '/content/drive/MyDrive/data/flood/wl_2021685_20190101_20190630.csv', '/content/drive/MyDrive/data/flood/wl_2021685_20190701_20191231.csv', '/content/drive/MyDrive/data/flood/wl_2021685_20200101_20200630.csv', '/content/drive/MyDrive/data/flood/wl_2021685_20200701_20201231.csv', '/content/drive/MyDrive/data/flood/wl_2021685_20210101_20210630.csv']\n",
            "['/content/drive/MyDrive/data/flood/wl_2020680_20140101_20140630.csv', '/content/drive/MyDrive/data/flood/wl_2020680_20140701_20141231.csv', '/content/drive/MyDrive/data/flood/wl_2020680_20150101_20150630.csv', '/content/drive/MyDrive/data/flood/wl_2020680_20150701_20151231.csv', '/content/drive/MyDrive/data/flood/wl_2020680_20160101_20160630.csv', '/content/drive/MyDrive/data/flood/wl_2020680_20160701_20161231.csv', '/content/drive/MyDrive/data/flood/wl_2020680_20170101_20170630.csv', '/content/drive/MyDrive/data/flood/wl_2020680_20170701_20171231.csv', '/content/drive/MyDrive/data/flood/wl_2020680_20180101_20180630.csv', '/content/drive/MyDrive/data/flood/wl_2020680_20180701_20181231.csv', '/content/drive/MyDrive/data/flood/wl_2020680_20190101_20190630.csv', '/content/drive/MyDrive/data/flood/wl_2020680_20190701_20191231.csv', '/content/drive/MyDrive/data/flood/wl_2020680_20200101_20200630.csv', '/content/drive/MyDrive/data/flood/wl_2020680_20200701_20201231.csv', '/content/drive/MyDrive/data/flood/wl_2020680_20210101_20210630.csv']\n",
            "['/content/drive/MyDrive/data/flood/rf_20224050_20140101_20140630.csv', '/content/drive/MyDrive/data/flood/rf_20224050_20140701_20141231.csv', '/content/drive/MyDrive/data/flood/rf_20224050_20150101_20150630.csv', '/content/drive/MyDrive/data/flood/rf_20224050_20150701_20151231.csv', '/content/drive/MyDrive/data/flood/rf_20224050_20160101_20160630.csv', '/content/drive/MyDrive/data/flood/rf_20224050_20160701_20161231.csv', '/content/drive/MyDrive/data/flood/rf_20224050_20170101_20170630.csv', '/content/drive/MyDrive/data/flood/rf_20224050_20170701_20171231.csv', '/content/drive/MyDrive/data/flood/rf_20224050_20180101_20180630.csv', '/content/drive/MyDrive/data/flood/rf_20224050_20180701_20181231.csv', '/content/drive/MyDrive/data/flood/rf_20224050_20190101_20190630.csv', '/content/drive/MyDrive/data/flood/rf_20224050_20190701_20191231.csv', '/content/drive/MyDrive/data/flood/rf_20224050_20200101_20200630.csv', '/content/drive/MyDrive/data/flood/rf_20224050_20200701_20201231.csv', '/content/drive/MyDrive/data/flood/rf_20224050_20210101_20210630.csv']\n",
            "['/content/drive/MyDrive/data/flood/rf_20204020_20140101_20140630.csv', '/content/drive/MyDrive/data/flood/rf_20204020_20140701_20141231.csv', '/content/drive/MyDrive/data/flood/rf_20204020_20150101_20150630.csv', '/content/drive/MyDrive/data/flood/rf_20204020_20150701_20151231.csv', '/content/drive/MyDrive/data/flood/rf_20204020_20160101_20160630.csv', '/content/drive/MyDrive/data/flood/rf_20204020_20160701_20161231.csv', '/content/drive/MyDrive/data/flood/rf_20204020_20170101_20170630.csv', '/content/drive/MyDrive/data/flood/rf_20204020_20170701_20171231.csv', '/content/drive/MyDrive/data/flood/rf_20204020_20180101_20180630.csv', '/content/drive/MyDrive/data/flood/rf_20204020_20180701_20181231.csv', '/content/drive/MyDrive/data/flood/rf_20204020_20190101_20190630.csv', '/content/drive/MyDrive/data/flood/rf_20204020_20190701_20191231.csv', '/content/drive/MyDrive/data/flood/rf_20204020_20200101_20200630.csv', '/content/drive/MyDrive/data/flood/rf_20204020_20200701_20201231.csv', '/content/drive/MyDrive/data/flood/rf_20204020_20210101_20210630.csv']\n",
            "['/content/drive/MyDrive/data/flood/rf_20204030_20140101_20140630.csv', '/content/drive/MyDrive/data/flood/rf_20204030_20140701_20141231.csv', '/content/drive/MyDrive/data/flood/rf_20204030_20150101_20150630.csv', '/content/drive/MyDrive/data/flood/rf_20204030_20150701_20151231.csv', '/content/drive/MyDrive/data/flood/rf_20204030_20160101_20160630.csv', '/content/drive/MyDrive/data/flood/rf_20204030_20160701_20161231.csv', '/content/drive/MyDrive/data/flood/rf_20204030_20170101_20170630.csv', '/content/drive/MyDrive/data/flood/rf_20204030_20170701_20171231.csv', '/content/drive/MyDrive/data/flood/rf_20204030_20180101_20180630.csv', '/content/drive/MyDrive/data/flood/rf_20204030_20180701_20181231.csv', '/content/drive/MyDrive/data/flood/rf_20204030_20190101_20190630.csv', '/content/drive/MyDrive/data/flood/rf_20204030_20190701_20191231.csv', '/content/drive/MyDrive/data/flood/rf_20204030_20200101_20200630.csv', '/content/drive/MyDrive/data/flood/rf_20204030_20200701_20201231.csv', '/content/drive/MyDrive/data/flood/rf_20204030_20210101_20210630.csv']\n",
            "['/content/drive/MyDrive/data/flood/rf_20214020_20140101_20140630.csv', '/content/drive/MyDrive/data/flood/rf_20214020_20140701_20141231.csv', '/content/drive/MyDrive/data/flood/rf_20214020_20150101_20150630.csv', '/content/drive/MyDrive/data/flood/rf_20214020_20150701_20151231.csv', '/content/drive/MyDrive/data/flood/rf_20214020_20160101_20160630.csv', '/content/drive/MyDrive/data/flood/rf_20214020_20160701_20161231.csv', '/content/drive/MyDrive/data/flood/rf_20214020_20170101_20170630.csv', '/content/drive/MyDrive/data/flood/rf_20214020_20170701_20171231.csv', '/content/drive/MyDrive/data/flood/rf_20214020_20180101_20180630.csv', '/content/drive/MyDrive/data/flood/rf_20214020_20180701_20181231.csv', '/content/drive/MyDrive/data/flood/rf_20214020_20190101_20190630.csv', '/content/drive/MyDrive/data/flood/rf_20214020_20190701_20191231.csv', '/content/drive/MyDrive/data/flood/rf_20214020_20200101_20200630.csv', '/content/drive/MyDrive/data/flood/rf_20214020_20200701_20201231.csv', '/content/drive/MyDrive/data/flood/rf_20214020_20210101_20210630.csv']\n"
          ]
        }
      ]
    },
    {
      "cell_type": "code",
      "metadata": {
        "colab": {
          "base_uri": "https://localhost:8080/",
          "height": 417
        },
        "id": "8mkVHbA4cDjH",
        "outputId": "b664d88e-f430-4a7f-a5d8-e12d3208be19"
      },
      "source": [
        "df"
      ],
      "execution_count": null,
      "outputs": [
        {
          "output_type": "execute_result",
          "data": {
            "text/html": [
              "<div>\n",
              "<style scoped>\n",
              "    .dataframe tbody tr th:only-of-type {\n",
              "        vertical-align: middle;\n",
              "    }\n",
              "\n",
              "    .dataframe tbody tr th {\n",
              "        vertical-align: top;\n",
              "    }\n",
              "\n",
              "    .dataframe thead th {\n",
              "        text-align: right;\n",
              "    }\n",
              "</style>\n",
              "<table border=\"1\" class=\"dataframe\">\n",
              "  <thead>\n",
              "    <tr style=\"text-align: right;\">\n",
              "      <th></th>\n",
              "      <th>Date</th>\n",
              "      <th>ymdh</th>\n",
              "      <th>2022610</th>\n",
              "      <th>2020675</th>\n",
              "      <th>2020650</th>\n",
              "      <th>2021685</th>\n",
              "      <th>2020680</th>\n",
              "      <th>20224050</th>\n",
              "      <th>20204020</th>\n",
              "      <th>20204030</th>\n",
              "      <th>20214020</th>\n",
              "    </tr>\n",
              "  </thead>\n",
              "  <tbody>\n",
              "    <tr>\n",
              "      <th>0</th>\n",
              "      <td>2015-05-01 01:00:00</td>\n",
              "      <td>2015050101</td>\n",
              "      <td>1.57</td>\n",
              "      <td>1.16</td>\n",
              "      <td>-1.14</td>\n",
              "      <td>0.92</td>\n",
              "      <td>1.39</td>\n",
              "      <td>0.0</td>\n",
              "      <td>0.0</td>\n",
              "      <td>0.0</td>\n",
              "      <td>0.0</td>\n",
              "    </tr>\n",
              "    <tr>\n",
              "      <th>1</th>\n",
              "      <td>2015-05-01 02:00:00</td>\n",
              "      <td>2015050102</td>\n",
              "      <td>1.53</td>\n",
              "      <td>1.12</td>\n",
              "      <td>-1.17</td>\n",
              "      <td>0.91</td>\n",
              "      <td>1.37</td>\n",
              "      <td>0.0</td>\n",
              "      <td>0.0</td>\n",
              "      <td>0.0</td>\n",
              "      <td>0.0</td>\n",
              "    </tr>\n",
              "    <tr>\n",
              "      <th>2</th>\n",
              "      <td>2015-05-01 03:00:00</td>\n",
              "      <td>2015050103</td>\n",
              "      <td>1.51</td>\n",
              "      <td>1.09</td>\n",
              "      <td>-1.21</td>\n",
              "      <td>0.90</td>\n",
              "      <td>1.34</td>\n",
              "      <td>0.0</td>\n",
              "      <td>0.0</td>\n",
              "      <td>0.0</td>\n",
              "      <td>0.0</td>\n",
              "    </tr>\n",
              "    <tr>\n",
              "      <th>3</th>\n",
              "      <td>2015-05-01 04:00:00</td>\n",
              "      <td>2015050104</td>\n",
              "      <td>1.49</td>\n",
              "      <td>1.07</td>\n",
              "      <td>-1.24</td>\n",
              "      <td>0.90</td>\n",
              "      <td>1.32</td>\n",
              "      <td>0.0</td>\n",
              "      <td>0.0</td>\n",
              "      <td>0.0</td>\n",
              "      <td>0.0</td>\n",
              "    </tr>\n",
              "    <tr>\n",
              "      <th>4</th>\n",
              "      <td>2015-05-01 05:00:00</td>\n",
              "      <td>2015050105</td>\n",
              "      <td>1.47</td>\n",
              "      <td>1.05</td>\n",
              "      <td>-1.28</td>\n",
              "      <td>0.89</td>\n",
              "      <td>1.30</td>\n",
              "      <td>0.0</td>\n",
              "      <td>0.0</td>\n",
              "      <td>0.0</td>\n",
              "      <td>0.0</td>\n",
              "    </tr>\n",
              "    <tr>\n",
              "      <th>...</th>\n",
              "      <td>...</td>\n",
              "      <td>...</td>\n",
              "      <td>...</td>\n",
              "      <td>...</td>\n",
              "      <td>...</td>\n",
              "      <td>...</td>\n",
              "      <td>...</td>\n",
              "      <td>...</td>\n",
              "      <td>...</td>\n",
              "      <td>...</td>\n",
              "      <td>...</td>\n",
              "    </tr>\n",
              "    <tr>\n",
              "      <th>48282</th>\n",
              "      <td>2020-11-01 19:00:00</td>\n",
              "      <td>2020110119</td>\n",
              "      <td>1.60</td>\n",
              "      <td>1.17</td>\n",
              "      <td>4.85</td>\n",
              "      <td>0.85</td>\n",
              "      <td>1.44</td>\n",
              "      <td>0.0</td>\n",
              "      <td>0.0</td>\n",
              "      <td>0.0</td>\n",
              "      <td>0.0</td>\n",
              "    </tr>\n",
              "    <tr>\n",
              "      <th>48283</th>\n",
              "      <td>2020-11-01 20:00:00</td>\n",
              "      <td>2020110120</td>\n",
              "      <td>1.61</td>\n",
              "      <td>1.19</td>\n",
              "      <td>4.85</td>\n",
              "      <td>0.85</td>\n",
              "      <td>1.44</td>\n",
              "      <td>0.0</td>\n",
              "      <td>0.0</td>\n",
              "      <td>0.0</td>\n",
              "      <td>0.0</td>\n",
              "    </tr>\n",
              "    <tr>\n",
              "      <th>48284</th>\n",
              "      <td>2020-11-01 21:00:00</td>\n",
              "      <td>2020110121</td>\n",
              "      <td>1.62</td>\n",
              "      <td>1.19</td>\n",
              "      <td>4.86</td>\n",
              "      <td>0.85</td>\n",
              "      <td>1.44</td>\n",
              "      <td>0.0</td>\n",
              "      <td>0.0</td>\n",
              "      <td>0.0</td>\n",
              "      <td>0.0</td>\n",
              "    </tr>\n",
              "    <tr>\n",
              "      <th>48285</th>\n",
              "      <td>2020-11-01 22:00:00</td>\n",
              "      <td>2020110122</td>\n",
              "      <td>1.62</td>\n",
              "      <td>1.20</td>\n",
              "      <td>4.86</td>\n",
              "      <td>0.85</td>\n",
              "      <td>1.45</td>\n",
              "      <td>0.0</td>\n",
              "      <td>0.0</td>\n",
              "      <td>0.0</td>\n",
              "      <td>0.0</td>\n",
              "    </tr>\n",
              "    <tr>\n",
              "      <th>48286</th>\n",
              "      <td>2020-11-01 23:00:00</td>\n",
              "      <td>2020110123</td>\n",
              "      <td>1.63</td>\n",
              "      <td>1.20</td>\n",
              "      <td>4.87</td>\n",
              "      <td>0.85</td>\n",
              "      <td>1.45</td>\n",
              "      <td>0.0</td>\n",
              "      <td>0.0</td>\n",
              "      <td>0.0</td>\n",
              "      <td>0.0</td>\n",
              "    </tr>\n",
              "  </tbody>\n",
              "</table>\n",
              "<p>48287 rows × 11 columns</p>\n",
              "</div>"
            ],
            "text/plain": [
              "                     Date        ymdh  2022610  ...  20204020  20204030  20214020\n",
              "0     2015-05-01 01:00:00  2015050101     1.57  ...       0.0       0.0       0.0\n",
              "1     2015-05-01 02:00:00  2015050102     1.53  ...       0.0       0.0       0.0\n",
              "2     2015-05-01 03:00:00  2015050103     1.51  ...       0.0       0.0       0.0\n",
              "3     2015-05-01 04:00:00  2015050104     1.49  ...       0.0       0.0       0.0\n",
              "4     2015-05-01 05:00:00  2015050105     1.47  ...       0.0       0.0       0.0\n",
              "...                   ...         ...      ...  ...       ...       ...       ...\n",
              "48282 2020-11-01 19:00:00  2020110119     1.60  ...       0.0       0.0       0.0\n",
              "48283 2020-11-01 20:00:00  2020110120     1.61  ...       0.0       0.0       0.0\n",
              "48284 2020-11-01 21:00:00  2020110121     1.62  ...       0.0       0.0       0.0\n",
              "48285 2020-11-01 22:00:00  2020110122     1.62  ...       0.0       0.0       0.0\n",
              "48286 2020-11-01 23:00:00  2020110123     1.63  ...       0.0       0.0       0.0\n",
              "\n",
              "[48287 rows x 11 columns]"
            ]
          },
          "metadata": {},
          "execution_count": 7
        }
      ]
    },
    {
      "cell_type": "code",
      "metadata": {
        "colab": {
          "base_uri": "https://localhost:8080/",
          "height": 643
        },
        "id": "Q9jW26iu7NMz",
        "outputId": "83568511-9e5a-485b-bf5e-e2878b1c6036"
      },
      "source": [
        "import missingno as msno\n",
        "\n",
        "msno.matrix(df)"
      ],
      "execution_count": null,
      "outputs": [
        {
          "output_type": "execute_result",
          "data": {
            "text/plain": [
              "<matplotlib.axes._subplots.AxesSubplot at 0x7fd9cc7364d0>"
            ]
          },
          "metadata": {},
          "execution_count": 8
        },
        {
          "output_type": "display_data",
          "data": {
            "image/png": "[encoded data removed]",
            "text/plain": [
              "<Figure size 1800x720 with 2 Axes>"
            ]
          },
          "metadata": {
            "needs_background": "light"
          }
        }
      ]
    },
    {
      "cell_type": "code",
      "metadata": {
        "id": "jpejiBl7U-G4"
      },
      "source": [
        "# 결측치는 선형보간으로 처리\n",
        "# LSTM의 경우 연속된 값을 입력으로 해야함에 따라 결측치 보간을 필수적으로 해야함\n",
        "\n",
        "df['2022610'] = df['2022610'].interpolate(limit=1)\n",
        "df['2020675'] = df['2020675'].interpolate(limit=1)\n",
        "df['2020650'] = df['2020650'].interpolate(limit=1)\n",
        "df['2021685'] = df['2021685'].interpolate(limit=1)\n",
        "df['2020680'] = df['2020680'].interpolate(limit=1)\n",
        "\n",
        "df['20224050'] = df['20224050'].fillna(0)\n",
        "df['20214020'] = df['20214020'].fillna(0)\n",
        "df['20204020'] = df['20204020'].fillna(0)\n",
        "df['20204030'] = df['20204030'].fillna(0)"
      ],
      "execution_count": null,
      "outputs": []
    },
    {
      "cell_type": "code",
      "metadata": {
        "colab": {
          "base_uri": "https://localhost:8080/",
          "height": 643
        },
        "id": "kwPWNG0FDh4b",
        "outputId": "cc709cb1-6cc2-4e45-aef3-d60d14943909"
      },
      "source": [
        "import missingno as msno\n",
        "\n",
        "msno.matrix(df)"
      ],
      "execution_count": null,
      "outputs": [
        {
          "output_type": "execute_result",
          "data": {
            "text/plain": [
              "<matplotlib.axes._subplots.AxesSubplot at 0x7fd9c4527590>"
            ]
          },
          "metadata": {},
          "execution_count": 10
        },
        {
          "output_type": "display_data",
          "data": {
            "image/png": "[encoded data removed]",
            "text/plain": [
              "<Figure size 1800x720 with 2 Axes>"
            ]
          },
          "metadata": {
            "needs_background": "light"
          }
        }
      ]
    },
    {
      "cell_type": "code",
      "metadata": {
        "colab": {
          "base_uri": "https://localhost:8080/"
        },
        "id": "CQQkowlP7UCh",
        "outputId": "58810800-e210-4637-b203-21a1502d311b"
      },
      "source": [
        "df.isnull().sum()"
      ],
      "execution_count": null,
      "outputs": [
        {
          "output_type": "execute_result",
          "data": {
            "text/plain": [
              "Date           0\n",
              "ymdh           0\n",
              "2022610        0\n",
              "2020675        0\n",
              "2020650        0\n",
              "2021685        0\n",
              "2020680     1422\n",
              "20224050       0\n",
              "20204020       0\n",
              "20204030       0\n",
              "20214020       0\n",
              "dtype: int64"
            ]
          },
          "metadata": {},
          "execution_count": 11
        }
      ]
    },
    {
      "cell_type": "code",
      "metadata": {
        "colab": {
          "base_uri": "https://localhost:8080/",
          "height": 1000
        },
        "id": "X32Xz9ZkXoxF",
        "outputId": "1d6ee634-c48e-413a-8415-24fbcb5bcbbb"
      },
      "source": [
        "# 데이터 구조 체크 및 시각화\n",
        "\n",
        "start = 2020080700\n",
        "end = 2020081000\n",
        "\n",
        "df_temp = df[(df['ymdh'] >= start) & (df['ymdh'] <= end)][['Date', '2022610', '2020675', '2020650', '2021685', '2020680']].set_index('Date')\n",
        "df_temp.plot(figsize=(20,6))\n",
        "df_temp = df[(df['ymdh'] >= start) & (df['ymdh'] <= end)][['Date', '20224050', '20214020', '20204030', '20214020']].set_index('Date')\n",
        "df_temp.plot(figsize=(20,6))\n",
        "\n",
        "display(df[(df['ymdh'] >= start) & (df['ymdh'] <= end)])"
      ],
      "execution_count": null,
      "outputs": [
        {
          "output_type": "display_data",
          "data": {
            "text/html": [
              "<div>\n",
              "<style scoped>\n",
              "    .dataframe tbody tr th:only-of-type {\n",
              "        vertical-align: middle;\n",
              "    }\n",
              "\n",
              "    .dataframe tbody tr th {\n",
              "        vertical-align: top;\n",
              "    }\n",
              "\n",
              "    .dataframe thead th {\n",
              "        text-align: right;\n",
              "    }\n",
              "</style>\n",
              "<table border=\"1\" class=\"dataframe\">\n",
              "  <thead>\n",
              "    <tr style=\"text-align: right;\">\n",
              "      <th></th>\n",
              "      <th>Date</th>\n",
              "      <th>ymdh</th>\n",
              "      <th>2022610</th>\n",
              "      <th>2020675</th>\n",
              "      <th>2020650</th>\n",
              "      <th>2021685</th>\n",
              "      <th>2020680</th>\n",
              "      <th>20224050</th>\n",
              "      <th>20204020</th>\n",
              "      <th>20204030</th>\n",
              "      <th>20214020</th>\n",
              "    </tr>\n",
              "  </thead>\n",
              "  <tbody>\n",
              "    <tr>\n",
              "      <th>46199</th>\n",
              "      <td>2020-08-07 00:00:00</td>\n",
              "      <td>2020080700</td>\n",
              "      <td>1.98</td>\n",
              "      <td>1.655</td>\n",
              "      <td>5.595</td>\n",
              "      <td>1.25</td>\n",
              "      <td>1.780</td>\n",
              "      <td>0.0</td>\n",
              "      <td>0.0</td>\n",
              "      <td>0.0</td>\n",
              "      <td>0.0</td>\n",
              "    </tr>\n",
              "    <tr>\n",
              "      <th>46200</th>\n",
              "      <td>2020-08-07 01:00:00</td>\n",
              "      <td>2020080701</td>\n",
              "      <td>2.03</td>\n",
              "      <td>1.720</td>\n",
              "      <td>5.660</td>\n",
              "      <td>1.30</td>\n",
              "      <td>1.840</td>\n",
              "      <td>0.0</td>\n",
              "      <td>0.0</td>\n",
              "      <td>0.0</td>\n",
              "      <td>0.0</td>\n",
              "    </tr>\n",
              "    <tr>\n",
              "      <th>46201</th>\n",
              "      <td>2020-08-07 02:00:00</td>\n",
              "      <td>2020080702</td>\n",
              "      <td>2.03</td>\n",
              "      <td>1.740</td>\n",
              "      <td>5.690</td>\n",
              "      <td>1.32</td>\n",
              "      <td>1.860</td>\n",
              "      <td>0.0</td>\n",
              "      <td>0.0</td>\n",
              "      <td>0.0</td>\n",
              "      <td>0.0</td>\n",
              "    </tr>\n",
              "    <tr>\n",
              "      <th>46202</th>\n",
              "      <td>2020-08-07 03:00:00</td>\n",
              "      <td>2020080703</td>\n",
              "      <td>2.01</td>\n",
              "      <td>1.730</td>\n",
              "      <td>5.690</td>\n",
              "      <td>1.32</td>\n",
              "      <td>1.850</td>\n",
              "      <td>0.0</td>\n",
              "      <td>1.0</td>\n",
              "      <td>0.0</td>\n",
              "      <td>0.0</td>\n",
              "    </tr>\n",
              "    <tr>\n",
              "      <th>46203</th>\n",
              "      <td>2020-08-07 04:00:00</td>\n",
              "      <td>2020080704</td>\n",
              "      <td>1.95</td>\n",
              "      <td>1.700</td>\n",
              "      <td>5.670</td>\n",
              "      <td>1.29</td>\n",
              "      <td>1.820</td>\n",
              "      <td>0.0</td>\n",
              "      <td>0.0</td>\n",
              "      <td>0.0</td>\n",
              "      <td>1.0</td>\n",
              "    </tr>\n",
              "    <tr>\n",
              "      <th>...</th>\n",
              "      <td>...</td>\n",
              "      <td>...</td>\n",
              "      <td>...</td>\n",
              "      <td>...</td>\n",
              "      <td>...</td>\n",
              "      <td>...</td>\n",
              "      <td>...</td>\n",
              "      <td>...</td>\n",
              "      <td>...</td>\n",
              "      <td>...</td>\n",
              "      <td>...</td>\n",
              "    </tr>\n",
              "    <tr>\n",
              "      <th>46267</th>\n",
              "      <td>2020-08-09 20:00:00</td>\n",
              "      <td>2020080920</td>\n",
              "      <td>8.30</td>\n",
              "      <td>8.760</td>\n",
              "      <td>13.690</td>\n",
              "      <td>7.96</td>\n",
              "      <td>4.300</td>\n",
              "      <td>0.0</td>\n",
              "      <td>0.0</td>\n",
              "      <td>0.0</td>\n",
              "      <td>0.0</td>\n",
              "    </tr>\n",
              "    <tr>\n",
              "      <th>46268</th>\n",
              "      <td>2020-08-09 21:00:00</td>\n",
              "      <td>2020080921</td>\n",
              "      <td>8.23</td>\n",
              "      <td>8.680</td>\n",
              "      <td>13.650</td>\n",
              "      <td>7.89</td>\n",
              "      <td>4.290</td>\n",
              "      <td>0.0</td>\n",
              "      <td>0.0</td>\n",
              "      <td>0.0</td>\n",
              "      <td>0.0</td>\n",
              "    </tr>\n",
              "    <tr>\n",
              "      <th>46269</th>\n",
              "      <td>2020-08-09 22:00:00</td>\n",
              "      <td>2020080922</td>\n",
              "      <td>8.15</td>\n",
              "      <td>8.590</td>\n",
              "      <td>13.530</td>\n",
              "      <td>7.79</td>\n",
              "      <td>4.270</td>\n",
              "      <td>0.0</td>\n",
              "      <td>0.0</td>\n",
              "      <td>0.0</td>\n",
              "      <td>0.0</td>\n",
              "    </tr>\n",
              "    <tr>\n",
              "      <th>46270</th>\n",
              "      <td>2020-08-09 23:00:00</td>\n",
              "      <td>2020080923</td>\n",
              "      <td>8.07</td>\n",
              "      <td>8.490</td>\n",
              "      <td>13.390</td>\n",
              "      <td>7.70</td>\n",
              "      <td>4.260</td>\n",
              "      <td>1.0</td>\n",
              "      <td>0.0</td>\n",
              "      <td>1.0</td>\n",
              "      <td>1.0</td>\n",
              "    </tr>\n",
              "    <tr>\n",
              "      <th>46271</th>\n",
              "      <td>2020-08-10 00:00:00</td>\n",
              "      <td>2020081000</td>\n",
              "      <td>7.98</td>\n",
              "      <td>8.380</td>\n",
              "      <td>13.240</td>\n",
              "      <td>7.60</td>\n",
              "      <td>4.245</td>\n",
              "      <td>0.0</td>\n",
              "      <td>0.0</td>\n",
              "      <td>0.0</td>\n",
              "      <td>0.0</td>\n",
              "    </tr>\n",
              "  </tbody>\n",
              "</table>\n",
              "<p>73 rows × 11 columns</p>\n",
              "</div>"
            ],
            "text/plain": [
              "                     Date        ymdh  2022610  ...  20204020  20204030  20214020\n",
              "46199 2020-08-07 00:00:00  2020080700     1.98  ...       0.0       0.0       0.0\n",
              "46200 2020-08-07 01:00:00  2020080701     2.03  ...       0.0       0.0       0.0\n",
              "46201 2020-08-07 02:00:00  2020080702     2.03  ...       0.0       0.0       0.0\n",
              "46202 2020-08-07 03:00:00  2020080703     2.01  ...       1.0       0.0       0.0\n",
              "46203 2020-08-07 04:00:00  2020080704     1.95  ...       0.0       0.0       1.0\n",
              "...                   ...         ...      ...  ...       ...       ...       ...\n",
              "46267 2020-08-09 20:00:00  2020080920     8.30  ...       0.0       0.0       0.0\n",
              "46268 2020-08-09 21:00:00  2020080921     8.23  ...       0.0       0.0       0.0\n",
              "46269 2020-08-09 22:00:00  2020080922     8.15  ...       0.0       0.0       0.0\n",
              "46270 2020-08-09 23:00:00  2020080923     8.07  ...       0.0       1.0       1.0\n",
              "46271 2020-08-10 00:00:00  2020081000     7.98  ...       0.0       0.0       0.0\n",
              "\n",
              "[73 rows x 11 columns]"
            ]
          },
          "metadata": {}
        },
        {
          "output_type": "display_data",
          "data": {
            "image/png": "[encoded data removed]",
            "text/plain": [
              "<Figure size 1440x432 with 1 Axes>"
            ]
          },
          "metadata": {
            "needs_background": "light"
          }
        },
        {
          "output_type": "display_data",
          "data": {
            "image/png": "[encoded data removed]",
            "text/plain": [
              "<Figure size 1440x432 with 1 Axes>"
            ]
          },
          "metadata": {
            "needs_background": "light"
          }
        }
      ]
    },
    {
      "cell_type": "code",
      "metadata": {
        "colab": {
          "base_uri": "https://localhost:8080/",
          "height": 417
        },
        "id": "3AtaWgVCV661",
        "outputId": "156d4380-0e52-4536-b8c5-272916398a4f"
      },
      "source": [
        "# 3차원 입력데이터를 만들기 위해 df_in이라는 데이터프레임으로 복사\n",
        "\n",
        "df_in = df.drop(columns = ['Date', 'ymdh']).copy()\n",
        "df_in"
      ],
      "execution_count": null,
      "outputs": [
        {
          "output_type": "execute_result",
          "data": {
            "text/html": [
              "<div>\n",
              "<style scoped>\n",
              "    .dataframe tbody tr th:only-of-type {\n",
              "        vertical-align: middle;\n",
              "    }\n",
              "\n",
              "    .dataframe tbody tr th {\n",
              "        vertical-align: top;\n",
              "    }\n",
              "\n",
              "    .dataframe thead th {\n",
              "        text-align: right;\n",
              "    }\n",
              "</style>\n",
              "<table border=\"1\" class=\"dataframe\">\n",
              "  <thead>\n",
              "    <tr style=\"text-align: right;\">\n",
              "      <th></th>\n",
              "      <th>2022610</th>\n",
              "      <th>2020675</th>\n",
              "      <th>2020650</th>\n",
              "      <th>2021685</th>\n",
              "      <th>2020680</th>\n",
              "      <th>20224050</th>\n",
              "      <th>20204020</th>\n",
              "      <th>20204030</th>\n",
              "      <th>20214020</th>\n",
              "    </tr>\n",
              "  </thead>\n",
              "  <tbody>\n",
              "    <tr>\n",
              "      <th>0</th>\n",
              "      <td>1.57</td>\n",
              "      <td>1.16</td>\n",
              "      <td>-1.14</td>\n",
              "      <td>0.92</td>\n",
              "      <td>1.39</td>\n",
              "      <td>0.0</td>\n",
              "      <td>0.0</td>\n",
              "      <td>0.0</td>\n",
              "      <td>0.0</td>\n",
              "    </tr>\n",
              "    <tr>\n",
              "      <th>1</th>\n",
              "      <td>1.53</td>\n",
              "      <td>1.12</td>\n",
              "      <td>-1.17</td>\n",
              "      <td>0.91</td>\n",
              "      <td>1.37</td>\n",
              "      <td>0.0</td>\n",
              "      <td>0.0</td>\n",
              "      <td>0.0</td>\n",
              "      <td>0.0</td>\n",
              "    </tr>\n",
              "    <tr>\n",
              "      <th>2</th>\n",
              "      <td>1.51</td>\n",
              "      <td>1.09</td>\n",
              "      <td>-1.21</td>\n",
              "      <td>0.90</td>\n",
              "      <td>1.34</td>\n",
              "      <td>0.0</td>\n",
              "      <td>0.0</td>\n",
              "      <td>0.0</td>\n",
              "      <td>0.0</td>\n",
              "    </tr>\n",
              "    <tr>\n",
              "      <th>3</th>\n",
              "      <td>1.49</td>\n",
              "      <td>1.07</td>\n",
              "      <td>-1.24</td>\n",
              "      <td>0.90</td>\n",
              "      <td>1.32</td>\n",
              "      <td>0.0</td>\n",
              "      <td>0.0</td>\n",
              "      <td>0.0</td>\n",
              "      <td>0.0</td>\n",
              "    </tr>\n",
              "    <tr>\n",
              "      <th>4</th>\n",
              "      <td>1.47</td>\n",
              "      <td>1.05</td>\n",
              "      <td>-1.28</td>\n",
              "      <td>0.89</td>\n",
              "      <td>1.30</td>\n",
              "      <td>0.0</td>\n",
              "      <td>0.0</td>\n",
              "      <td>0.0</td>\n",
              "      <td>0.0</td>\n",
              "    </tr>\n",
              "    <tr>\n",
              "      <th>...</th>\n",
              "      <td>...</td>\n",
              "      <td>...</td>\n",
              "      <td>...</td>\n",
              "      <td>...</td>\n",
              "      <td>...</td>\n",
              "      <td>...</td>\n",
              "      <td>...</td>\n",
              "      <td>...</td>\n",
              "      <td>...</td>\n",
              "    </tr>\n",
              "    <tr>\n",
              "      <th>48282</th>\n",
              "      <td>1.60</td>\n",
              "      <td>1.17</td>\n",
              "      <td>4.85</td>\n",
              "      <td>0.85</td>\n",
              "      <td>1.44</td>\n",
              "      <td>0.0</td>\n",
              "      <td>0.0</td>\n",
              "      <td>0.0</td>\n",
              "      <td>0.0</td>\n",
              "    </tr>\n",
              "    <tr>\n",
              "      <th>48283</th>\n",
              "      <td>1.61</td>\n",
              "      <td>1.19</td>\n",
              "      <td>4.85</td>\n",
              "      <td>0.85</td>\n",
              "      <td>1.44</td>\n",
              "      <td>0.0</td>\n",
              "      <td>0.0</td>\n",
              "      <td>0.0</td>\n",
              "      <td>0.0</td>\n",
              "    </tr>\n",
              "    <tr>\n",
              "      <th>48284</th>\n",
              "      <td>1.62</td>\n",
              "      <td>1.19</td>\n",
              "      <td>4.86</td>\n",
              "      <td>0.85</td>\n",
              "      <td>1.44</td>\n",
              "      <td>0.0</td>\n",
              "      <td>0.0</td>\n",
              "      <td>0.0</td>\n",
              "      <td>0.0</td>\n",
              "    </tr>\n",
              "    <tr>\n",
              "      <th>48285</th>\n",
              "      <td>1.62</td>\n",
              "      <td>1.20</td>\n",
              "      <td>4.86</td>\n",
              "      <td>0.85</td>\n",
              "      <td>1.45</td>\n",
              "      <td>0.0</td>\n",
              "      <td>0.0</td>\n",
              "      <td>0.0</td>\n",
              "      <td>0.0</td>\n",
              "    </tr>\n",
              "    <tr>\n",
              "      <th>48286</th>\n",
              "      <td>1.63</td>\n",
              "      <td>1.20</td>\n",
              "      <td>4.87</td>\n",
              "      <td>0.85</td>\n",
              "      <td>1.45</td>\n",
              "      <td>0.0</td>\n",
              "      <td>0.0</td>\n",
              "      <td>0.0</td>\n",
              "      <td>0.0</td>\n",
              "    </tr>\n",
              "  </tbody>\n",
              "</table>\n",
              "<p>48287 rows × 9 columns</p>\n",
              "</div>"
            ],
            "text/plain": [
              "       2022610  2020675  2020650  ...  20204020  20204030  20214020\n",
              "0         1.57     1.16    -1.14  ...       0.0       0.0       0.0\n",
              "1         1.53     1.12    -1.17  ...       0.0       0.0       0.0\n",
              "2         1.51     1.09    -1.21  ...       0.0       0.0       0.0\n",
              "3         1.49     1.07    -1.24  ...       0.0       0.0       0.0\n",
              "4         1.47     1.05    -1.28  ...       0.0       0.0       0.0\n",
              "...        ...      ...      ...  ...       ...       ...       ...\n",
              "48282     1.60     1.17     4.85  ...       0.0       0.0       0.0\n",
              "48283     1.61     1.19     4.85  ...       0.0       0.0       0.0\n",
              "48284     1.62     1.19     4.86  ...       0.0       0.0       0.0\n",
              "48285     1.62     1.20     4.86  ...       0.0       0.0       0.0\n",
              "48286     1.63     1.20     4.87  ...       0.0       0.0       0.0\n",
              "\n",
              "[48287 rows x 9 columns]"
            ]
          },
          "metadata": {},
          "execution_count": 13
        }
      ]
    },
    {
      "cell_type": "code",
      "metadata": {
        "colab": {
          "base_uri": "https://localhost:8080/",
          "height": 392
        },
        "id": "D8547chR9jfK",
        "outputId": "3c0d2780-ab4d-4f35-8c45-e6fddb67270e"
      },
      "source": [
        "df_in['2022610'].plot(figsize = (20, 6))"
      ],
      "execution_count": null,
      "outputs": [
        {
          "output_type": "execute_result",
          "data": {
            "text/plain": [
              "<matplotlib.axes._subplots.AxesSubplot at 0x7fd9c4430810>"
            ]
          },
          "metadata": {},
          "execution_count": 14
        },
        {
          "output_type": "display_data",
          "data": {
            "image/png": "[encoded data removed]",
            "text/plain": [
              "<Figure size 1440x432 with 1 Axes>"
            ]
          },
          "metadata": {
            "needs_background": "light"
          }
        }
      ]
    },
    {
      "cell_type": "code",
      "metadata": {
        "colab": {
          "base_uri": "https://localhost:8080/",
          "height": 417
        },
        "id": "vT5EzssGHGqI",
        "outputId": "592cd8d2-4ba4-4ef2-c4f6-ffbc8b50d0da"
      },
      "source": [
        "# 값들을 0~1로 Min-Max 정규화 처리함\n",
        "\n",
        "# define scaler\n",
        "scaler = MinMaxScaler()\n",
        "# fit scaler on the training dataset\n",
        "scaler.fit(df_in.values)\n",
        "# transform the training dataset\n",
        "df_in_scaled = pd.DataFrame(scaler.transform(df_in.values), columns = df_in.columns)\n",
        "\n",
        "# save the scaler\n",
        "dump(scaler, open(path + 'scaler_2022610_8.pkl', 'wb'))\n",
        "\n",
        "df_in_scaled\n"
      ],
      "execution_count": null,
      "outputs": [
        {
          "output_type": "execute_result",
          "data": {
            "text/html": [
              "<div>\n",
              "<style scoped>\n",
              "    .dataframe tbody tr th:only-of-type {\n",
              "        vertical-align: middle;\n",
              "    }\n",
              "\n",
              "    .dataframe tbody tr th {\n",
              "        vertical-align: top;\n",
              "    }\n",
              "\n",
              "    .dataframe thead th {\n",
              "        text-align: right;\n",
              "    }\n",
              "</style>\n",
              "<table border=\"1\" class=\"dataframe\">\n",
              "  <thead>\n",
              "    <tr style=\"text-align: right;\">\n",
              "      <th></th>\n",
              "      <th>2022610</th>\n",
              "      <th>2020675</th>\n",
              "      <th>2020650</th>\n",
              "      <th>2021685</th>\n",
              "      <th>2020680</th>\n",
              "      <th>20224050</th>\n",
              "      <th>20204020</th>\n",
              "      <th>20204030</th>\n",
              "      <th>20214020</th>\n",
              "    </tr>\n",
              "  </thead>\n",
              "  <tbody>\n",
              "    <tr>\n",
              "      <th>0</th>\n",
              "      <td>0.066038</td>\n",
              "      <td>0.057211</td>\n",
              "      <td>0.023929</td>\n",
              "      <td>0.038309</td>\n",
              "      <td>0.036530</td>\n",
              "      <td>0.0</td>\n",
              "      <td>0.0</td>\n",
              "      <td>0.0</td>\n",
              "      <td>0.0</td>\n",
              "    </tr>\n",
              "    <tr>\n",
              "      <th>1</th>\n",
              "      <td>0.060647</td>\n",
              "      <td>0.052443</td>\n",
              "      <td>0.022040</td>\n",
              "      <td>0.036988</td>\n",
              "      <td>0.031963</td>\n",
              "      <td>0.0</td>\n",
              "      <td>0.0</td>\n",
              "      <td>0.0</td>\n",
              "      <td>0.0</td>\n",
              "    </tr>\n",
              "    <tr>\n",
              "      <th>2</th>\n",
              "      <td>0.057951</td>\n",
              "      <td>0.048868</td>\n",
              "      <td>0.019521</td>\n",
              "      <td>0.035667</td>\n",
              "      <td>0.025114</td>\n",
              "      <td>0.0</td>\n",
              "      <td>0.0</td>\n",
              "      <td>0.0</td>\n",
              "      <td>0.0</td>\n",
              "    </tr>\n",
              "    <tr>\n",
              "      <th>3</th>\n",
              "      <td>0.055256</td>\n",
              "      <td>0.046484</td>\n",
              "      <td>0.017632</td>\n",
              "      <td>0.035667</td>\n",
              "      <td>0.020548</td>\n",
              "      <td>0.0</td>\n",
              "      <td>0.0</td>\n",
              "      <td>0.0</td>\n",
              "      <td>0.0</td>\n",
              "    </tr>\n",
              "    <tr>\n",
              "      <th>4</th>\n",
              "      <td>0.052561</td>\n",
              "      <td>0.044100</td>\n",
              "      <td>0.015113</td>\n",
              "      <td>0.034346</td>\n",
              "      <td>0.015982</td>\n",
              "      <td>0.0</td>\n",
              "      <td>0.0</td>\n",
              "      <td>0.0</td>\n",
              "      <td>0.0</td>\n",
              "    </tr>\n",
              "    <tr>\n",
              "      <th>...</th>\n",
              "      <td>...</td>\n",
              "      <td>...</td>\n",
              "      <td>...</td>\n",
              "      <td>...</td>\n",
              "      <td>...</td>\n",
              "      <td>...</td>\n",
              "      <td>...</td>\n",
              "      <td>...</td>\n",
              "      <td>...</td>\n",
              "    </tr>\n",
              "    <tr>\n",
              "      <th>48282</th>\n",
              "      <td>0.070081</td>\n",
              "      <td>0.058403</td>\n",
              "      <td>0.401134</td>\n",
              "      <td>0.029062</td>\n",
              "      <td>0.047945</td>\n",
              "      <td>0.0</td>\n",
              "      <td>0.0</td>\n",
              "      <td>0.0</td>\n",
              "      <td>0.0</td>\n",
              "    </tr>\n",
              "    <tr>\n",
              "      <th>48283</th>\n",
              "      <td>0.071429</td>\n",
              "      <td>0.060787</td>\n",
              "      <td>0.401134</td>\n",
              "      <td>0.029062</td>\n",
              "      <td>0.047945</td>\n",
              "      <td>0.0</td>\n",
              "      <td>0.0</td>\n",
              "      <td>0.0</td>\n",
              "      <td>0.0</td>\n",
              "    </tr>\n",
              "    <tr>\n",
              "      <th>48284</th>\n",
              "      <td>0.072776</td>\n",
              "      <td>0.060787</td>\n",
              "      <td>0.401763</td>\n",
              "      <td>0.029062</td>\n",
              "      <td>0.047945</td>\n",
              "      <td>0.0</td>\n",
              "      <td>0.0</td>\n",
              "      <td>0.0</td>\n",
              "      <td>0.0</td>\n",
              "    </tr>\n",
              "    <tr>\n",
              "      <th>48285</th>\n",
              "      <td>0.072776</td>\n",
              "      <td>0.061979</td>\n",
              "      <td>0.401763</td>\n",
              "      <td>0.029062</td>\n",
              "      <td>0.050228</td>\n",
              "      <td>0.0</td>\n",
              "      <td>0.0</td>\n",
              "      <td>0.0</td>\n",
              "      <td>0.0</td>\n",
              "    </tr>\n",
              "    <tr>\n",
              "      <th>48286</th>\n",
              "      <td>0.074124</td>\n",
              "      <td>0.061979</td>\n",
              "      <td>0.402393</td>\n",
              "      <td>0.029062</td>\n",
              "      <td>0.050228</td>\n",
              "      <td>0.0</td>\n",
              "      <td>0.0</td>\n",
              "      <td>0.0</td>\n",
              "      <td>0.0</td>\n",
              "    </tr>\n",
              "  </tbody>\n",
              "</table>\n",
              "<p>48287 rows × 9 columns</p>\n",
              "</div>"
            ],
            "text/plain": [
              "        2022610   2020675   2020650  ...  20204020  20204030  20214020\n",
              "0      0.066038  0.057211  0.023929  ...       0.0       0.0       0.0\n",
              "1      0.060647  0.052443  0.022040  ...       0.0       0.0       0.0\n",
              "2      0.057951  0.048868  0.019521  ...       0.0       0.0       0.0\n",
              "3      0.055256  0.046484  0.017632  ...       0.0       0.0       0.0\n",
              "4      0.052561  0.044100  0.015113  ...       0.0       0.0       0.0\n",
              "...         ...       ...       ...  ...       ...       ...       ...\n",
              "48282  0.070081  0.058403  0.401134  ...       0.0       0.0       0.0\n",
              "48283  0.071429  0.060787  0.401134  ...       0.0       0.0       0.0\n",
              "48284  0.072776  0.060787  0.401763  ...       0.0       0.0       0.0\n",
              "48285  0.072776  0.061979  0.401763  ...       0.0       0.0       0.0\n",
              "48286  0.074124  0.061979  0.402393  ...       0.0       0.0       0.0\n",
              "\n",
              "[48287 rows x 9 columns]"
            ]
          },
          "metadata": {},
          "execution_count": 15
        }
      ]
    },
    {
      "cell_type": "code",
      "metadata": {
        "id": "rAuJ7ZZBzjdP",
        "colab": {
          "base_uri": "https://localhost:8080/",
          "height": 417
        },
        "outputId": "9050a08b-a372-454f-b500-64ee56fe88ac"
      },
      "source": [
        "# Min=max 정규화 이후 각 값의 차분(미분)을 계산\n",
        "# 이절차에 있어서는... 가장 좋은 방법에 대한 검토가 필요함\n",
        "# 일단 차분후 정규화하는 것보다는 정규화 후 차분하는 것이 더 좋다고 판단함\n",
        "\n",
        "df_in_scaled['2022610_diff'] = df_in_scaled['2022610'].diff()\n",
        "df_in_scaled['2020675_diff'] = df_in_scaled['2020675'].diff()\n",
        "df_in_scaled['2020650_diff'] = df_in_scaled['2020650'].diff()\n",
        "df_in_scaled['2021685_diff'] = df_in_scaled['2021685'].diff()\n",
        "df_in_scaled['2020680_diff'] = df_in_scaled['2020680'].diff()\n",
        "\n",
        "#df_in_scaled['2022610_diff2'] = df_in_scaled['2022610_diff'].diff().fillna(0)\n",
        "#df_in_scaled['2020675_diff2'] = df_in_scaled['2020675_diff'].diff().fillna(0)\n",
        "#df_in_scaled['2020650_diff2'] = df_in_scaled['2020650_diff'].diff().fillna(0)\n",
        "#df_in_scaled['2021685_diff2'] = df_in_scaled['2021685_diff'].diff().fillna(0)\n",
        "\n",
        "df_in_scaled"
      ],
      "execution_count": null,
      "outputs": [
        {
          "output_type": "execute_result",
          "data": {
            "text/html": [
              "<div>\n",
              "<style scoped>\n",
              "    .dataframe tbody tr th:only-of-type {\n",
              "        vertical-align: middle;\n",
              "    }\n",
              "\n",
              "    .dataframe tbody tr th {\n",
              "        vertical-align: top;\n",
              "    }\n",
              "\n",
              "    .dataframe thead th {\n",
              "        text-align: right;\n",
              "    }\n",
              "</style>\n",
              "<table border=\"1\" class=\"dataframe\">\n",
              "  <thead>\n",
              "    <tr style=\"text-align: right;\">\n",
              "      <th></th>\n",
              "      <th>2022610</th>\n",
              "      <th>2020675</th>\n",
              "      <th>2020650</th>\n",
              "      <th>2021685</th>\n",
              "      <th>2020680</th>\n",
              "      <th>20224050</th>\n",
              "      <th>20204020</th>\n",
              "      <th>20204030</th>\n",
              "      <th>20214020</th>\n",
              "      <th>2022610_diff</th>\n",
              "      <th>2020675_diff</th>\n",
              "      <th>2020650_diff</th>\n",
              "      <th>2021685_diff</th>\n",
              "      <th>2020680_diff</th>\n",
              "    </tr>\n",
              "  </thead>\n",
              "  <tbody>\n",
              "    <tr>\n",
              "      <th>0</th>\n",
              "      <td>0.066038</td>\n",
              "      <td>0.057211</td>\n",
              "      <td>0.023929</td>\n",
              "      <td>0.038309</td>\n",
              "      <td>0.036530</td>\n",
              "      <td>0.0</td>\n",
              "      <td>0.0</td>\n",
              "      <td>0.0</td>\n",
              "      <td>0.0</td>\n",
              "      <td>NaN</td>\n",
              "      <td>NaN</td>\n",
              "      <td>NaN</td>\n",
              "      <td>NaN</td>\n",
              "      <td>NaN</td>\n",
              "    </tr>\n",
              "    <tr>\n",
              "      <th>1</th>\n",
              "      <td>0.060647</td>\n",
              "      <td>0.052443</td>\n",
              "      <td>0.022040</td>\n",
              "      <td>0.036988</td>\n",
              "      <td>0.031963</td>\n",
              "      <td>0.0</td>\n",
              "      <td>0.0</td>\n",
              "      <td>0.0</td>\n",
              "      <td>0.0</td>\n",
              "      <td>-0.005391</td>\n",
              "      <td>-0.004768</td>\n",
              "      <td>-0.001889</td>\n",
              "      <td>-0.001321</td>\n",
              "      <td>-0.004566</td>\n",
              "    </tr>\n",
              "    <tr>\n",
              "      <th>2</th>\n",
              "      <td>0.057951</td>\n",
              "      <td>0.048868</td>\n",
              "      <td>0.019521</td>\n",
              "      <td>0.035667</td>\n",
              "      <td>0.025114</td>\n",
              "      <td>0.0</td>\n",
              "      <td>0.0</td>\n",
              "      <td>0.0</td>\n",
              "      <td>0.0</td>\n",
              "      <td>-0.002695</td>\n",
              "      <td>-0.003576</td>\n",
              "      <td>-0.002519</td>\n",
              "      <td>-0.001321</td>\n",
              "      <td>-0.006849</td>\n",
              "    </tr>\n",
              "    <tr>\n",
              "      <th>3</th>\n",
              "      <td>0.055256</td>\n",
              "      <td>0.046484</td>\n",
              "      <td>0.017632</td>\n",
              "      <td>0.035667</td>\n",
              "      <td>0.020548</td>\n",
              "      <td>0.0</td>\n",
              "      <td>0.0</td>\n",
              "      <td>0.0</td>\n",
              "      <td>0.0</td>\n",
              "      <td>-0.002695</td>\n",
              "      <td>-0.002384</td>\n",
              "      <td>-0.001889</td>\n",
              "      <td>0.000000</td>\n",
              "      <td>-0.004566</td>\n",
              "    </tr>\n",
              "    <tr>\n",
              "      <th>4</th>\n",
              "      <td>0.052561</td>\n",
              "      <td>0.044100</td>\n",
              "      <td>0.015113</td>\n",
              "      <td>0.034346</td>\n",
              "      <td>0.015982</td>\n",
              "      <td>0.0</td>\n",
              "      <td>0.0</td>\n",
              "      <td>0.0</td>\n",
              "      <td>0.0</td>\n",
              "      <td>-0.002695</td>\n",
              "      <td>-0.002384</td>\n",
              "      <td>-0.002519</td>\n",
              "      <td>-0.001321</td>\n",
              "      <td>-0.004566</td>\n",
              "    </tr>\n",
              "    <tr>\n",
              "      <th>...</th>\n",
              "      <td>...</td>\n",
              "      <td>...</td>\n",
              "      <td>...</td>\n",
              "      <td>...</td>\n",
              "      <td>...</td>\n",
              "      <td>...</td>\n",
              "      <td>...</td>\n",
              "      <td>...</td>\n",
              "      <td>...</td>\n",
              "      <td>...</td>\n",
              "      <td>...</td>\n",
              "      <td>...</td>\n",
              "      <td>...</td>\n",
              "      <td>...</td>\n",
              "    </tr>\n",
              "    <tr>\n",
              "      <th>48282</th>\n",
              "      <td>0.070081</td>\n",
              "      <td>0.058403</td>\n",
              "      <td>0.401134</td>\n",
              "      <td>0.029062</td>\n",
              "      <td>0.047945</td>\n",
              "      <td>0.0</td>\n",
              "      <td>0.0</td>\n",
              "      <td>0.0</td>\n",
              "      <td>0.0</td>\n",
              "      <td>0.000000</td>\n",
              "      <td>0.000000</td>\n",
              "      <td>0.001259</td>\n",
              "      <td>0.000000</td>\n",
              "      <td>0.000000</td>\n",
              "    </tr>\n",
              "    <tr>\n",
              "      <th>48283</th>\n",
              "      <td>0.071429</td>\n",
              "      <td>0.060787</td>\n",
              "      <td>0.401134</td>\n",
              "      <td>0.029062</td>\n",
              "      <td>0.047945</td>\n",
              "      <td>0.0</td>\n",
              "      <td>0.0</td>\n",
              "      <td>0.0</td>\n",
              "      <td>0.0</td>\n",
              "      <td>0.001348</td>\n",
              "      <td>0.002384</td>\n",
              "      <td>0.000000</td>\n",
              "      <td>0.000000</td>\n",
              "      <td>0.000000</td>\n",
              "    </tr>\n",
              "    <tr>\n",
              "      <th>48284</th>\n",
              "      <td>0.072776</td>\n",
              "      <td>0.060787</td>\n",
              "      <td>0.401763</td>\n",
              "      <td>0.029062</td>\n",
              "      <td>0.047945</td>\n",
              "      <td>0.0</td>\n",
              "      <td>0.0</td>\n",
              "      <td>0.0</td>\n",
              "      <td>0.0</td>\n",
              "      <td>0.001348</td>\n",
              "      <td>0.000000</td>\n",
              "      <td>0.000630</td>\n",
              "      <td>0.000000</td>\n",
              "      <td>0.000000</td>\n",
              "    </tr>\n",
              "    <tr>\n",
              "      <th>48285</th>\n",
              "      <td>0.072776</td>\n",
              "      <td>0.061979</td>\n",
              "      <td>0.401763</td>\n",
              "      <td>0.029062</td>\n",
              "      <td>0.050228</td>\n",
              "      <td>0.0</td>\n",
              "      <td>0.0</td>\n",
              "      <td>0.0</td>\n",
              "      <td>0.0</td>\n",
              "      <td>0.000000</td>\n",
              "      <td>0.001192</td>\n",
              "      <td>0.000000</td>\n",
              "      <td>0.000000</td>\n",
              "      <td>0.002283</td>\n",
              "    </tr>\n",
              "    <tr>\n",
              "      <th>48286</th>\n",
              "      <td>0.074124</td>\n",
              "      <td>0.061979</td>\n",
              "      <td>0.402393</td>\n",
              "      <td>0.029062</td>\n",
              "      <td>0.050228</td>\n",
              "      <td>0.0</td>\n",
              "      <td>0.0</td>\n",
              "      <td>0.0</td>\n",
              "      <td>0.0</td>\n",
              "      <td>0.001348</td>\n",
              "      <td>0.000000</td>\n",
              "      <td>0.000630</td>\n",
              "      <td>0.000000</td>\n",
              "      <td>0.000000</td>\n",
              "    </tr>\n",
              "  </tbody>\n",
              "</table>\n",
              "<p>48287 rows × 14 columns</p>\n",
              "</div>"
            ],
            "text/plain": [
              "        2022610   2020675   2020650  ...  2020650_diff  2021685_diff  2020680_diff\n",
              "0      0.066038  0.057211  0.023929  ...           NaN           NaN           NaN\n",
              "1      0.060647  0.052443  0.022040  ...     -0.001889     -0.001321     -0.004566\n",
              "2      0.057951  0.048868  0.019521  ...     -0.002519     -0.001321     -0.006849\n",
              "3      0.055256  0.046484  0.017632  ...     -0.001889      0.000000     -0.004566\n",
              "4      0.052561  0.044100  0.015113  ...     -0.002519     -0.001321     -0.004566\n",
              "...         ...       ...       ...  ...           ...           ...           ...\n",
              "48282  0.070081  0.058403  0.401134  ...      0.001259      0.000000      0.000000\n",
              "48283  0.071429  0.060787  0.401134  ...      0.000000      0.000000      0.000000\n",
              "48284  0.072776  0.060787  0.401763  ...      0.000630      0.000000      0.000000\n",
              "48285  0.072776  0.061979  0.401763  ...      0.000000      0.000000      0.002283\n",
              "48286  0.074124  0.061979  0.402393  ...      0.000630      0.000000      0.000000\n",
              "\n",
              "[48287 rows x 14 columns]"
            ]
          },
          "metadata": {},
          "execution_count": 16
        }
      ]
    },
    {
      "cell_type": "code",
      "metadata": {
        "colab": {
          "base_uri": "https://localhost:8080/"
        },
        "id": "85v4CKhBGZjA",
        "outputId": "64aadef8-cc05-41e0-aa69-2dbbefbb8274"
      },
      "source": [
        "# 240시간(10일)에 대해 8개의 변수를 가지는 2차원 데이터셋을 기본 형태로 하는 3차원데이터셋(2차원을 기본으로 하는 배열)을 생성\n",
        "# y_shift는 이후 1시간을 예측으로 함\n",
        "\n",
        "x_range = 240\n",
        "y_shift = 1\n",
        "features = df_in_scaled.shape[1]\n",
        "y_target_column = '2022610'\n",
        "\n",
        "nb_samples = df_in_scaled.shape[0] - (x_range + y_shift - 1)\n",
        "\n",
        "dataset_X_reshaped = np.zeros((nb_samples, x_range, features))\n",
        "dataset_y_reshaped = np.zeros((nb_samples, y_shift))\n",
        "\n",
        "j = 0\n",
        "for i in range(nb_samples):\n",
        "  if ((np.isnan(df_in_scaled[i:(i+x_range)].to_numpy()).sum()) > 0) | (np.isnan(df_in[y_target_column][i+x_range+y_shift-1]).sum() > 0) :\n",
        "    continue \n",
        "  dataset_X_reshaped[j] = df_in_scaled[i:(i+x_range)].to_numpy()\n",
        "  dataset_y_reshaped[j] = df_in[y_target_column][i+x_range+y_shift-1].reshape(-1)\n",
        "  j = j + 1\n",
        "\n",
        "dataset_X_reshaped = dataset_X_reshaped[0:j]\n",
        "dataset_y_reshaped = dataset_y_reshaped[0:j]\n",
        "\n",
        "print(dataset_X_reshaped.shape)\n",
        "print(dataset_X_reshaped)\n",
        "\n",
        "print(dataset_y_reshaped.shape)\n",
        "print(dataset_y_reshaped)"
      ],
      "execution_count": null,
      "outputs": [
        {
          "output_type": "stream",
          "name": "stdout",
          "text": [
            "(44921, 240, 14)\n",
            "[[[ 0.0606469   0.05244338  0.0220403  ... -0.00188917 -0.001321\n",
            "   -0.00456621]\n",
            "  [ 0.05795148  0.0488677   0.01952141 ... -0.00251889 -0.001321\n",
            "   -0.00684932]\n",
            "  [ 0.05525606  0.04648391  0.01763224 ... -0.00188917  0.\n",
            "   -0.00456621]\n",
            "  ...\n",
            "  [ 0.05390836  0.04529201  0.01574307 ... -0.00062972  0.\n",
            "    0.        ]\n",
            "  [ 0.05592992  0.04588796  0.01668766 ...  0.00094458 -0.0006605\n",
            "    0.00114155]\n",
            "  [ 0.05795148  0.04648391  0.01763224 ...  0.00094458 -0.0006605\n",
            "    0.00114155]]\n",
            "\n",
            " [[ 0.05795148  0.0488677   0.01952141 ... -0.00251889 -0.001321\n",
            "   -0.00684932]\n",
            "  [ 0.05525606  0.04648391  0.01763224 ... -0.00188917  0.\n",
            "   -0.00456621]\n",
            "  [ 0.05256065  0.04410012  0.01511335 ... -0.00251889 -0.001321\n",
            "   -0.00456621]\n",
            "  ...\n",
            "  [ 0.05592992  0.04588796  0.01668766 ...  0.00094458 -0.0006605\n",
            "    0.00114155]\n",
            "  [ 0.05795148  0.04648391  0.01763224 ...  0.00094458 -0.0006605\n",
            "    0.00114155]\n",
            "  [ 0.0606469   0.0476758   0.01763224 ...  0.          0.\n",
            "    0.        ]]\n",
            "\n",
            " [[ 0.05525606  0.04648391  0.01763224 ... -0.00188917  0.\n",
            "   -0.00456621]\n",
            "  [ 0.05256065  0.04410012  0.01511335 ... -0.00251889 -0.001321\n",
            "   -0.00456621]\n",
            "  [ 0.05256065  0.04290822  0.01511335 ...  0.          0.\n",
            "   -0.00228311]\n",
            "  ...\n",
            "  [ 0.05795148  0.04648391  0.01763224 ...  0.00094458 -0.0006605\n",
            "    0.00114155]\n",
            "  [ 0.0606469   0.0476758   0.01763224 ...  0.          0.\n",
            "    0.        ]\n",
            "  [ 0.0606469   0.0476758   0.01763224 ...  0.          0.\n",
            "    0.        ]]\n",
            "\n",
            " ...\n",
            "\n",
            " [[ 0.07951482  0.06912992  0.40806045 ...  0.00440806  0.00396301\n",
            "   -0.00228311]\n",
            "  [ 0.08086253  0.07151371  0.40554156 ... -0.00251889  0.\n",
            "    0.        ]\n",
            "  [ 0.07816712  0.06793802  0.40365239 ... -0.00188917 -0.00264201\n",
            "    0.        ]\n",
            "  ...\n",
            "  [ 0.07008086  0.05840286  0.39987406 ...  0.          0.\n",
            "    0.        ]\n",
            "  [ 0.07008086  0.05840286  0.4011335  ...  0.00125945  0.\n",
            "    0.        ]\n",
            "  [ 0.07142857  0.06078665  0.4011335  ...  0.          0.\n",
            "    0.        ]]\n",
            "\n",
            " [[ 0.08086253  0.07151371  0.40554156 ... -0.00251889  0.\n",
            "    0.        ]\n",
            "  [ 0.07816712  0.06793802  0.40365239 ... -0.00188917 -0.00264201\n",
            "    0.        ]\n",
            "  [ 0.07816712  0.06674613  0.40302267 ... -0.00062972 -0.001321\n",
            "   -0.00114155]\n",
            "  ...\n",
            "  [ 0.07008086  0.05840286  0.4011335  ...  0.00125945  0.\n",
            "    0.        ]\n",
            "  [ 0.07142857  0.06078665  0.4011335  ...  0.          0.\n",
            "    0.        ]\n",
            "  [ 0.07277628  0.06078665  0.40176322 ...  0.00062972  0.\n",
            "    0.        ]]\n",
            "\n",
            " [[ 0.07816712  0.06793802  0.40365239 ... -0.00188917 -0.00264201\n",
            "    0.        ]\n",
            "  [ 0.07816712  0.06674613  0.40302267 ... -0.00062972 -0.001321\n",
            "   -0.00114155]\n",
            "  [ 0.07816712  0.06555423  0.40239295 ... -0.00062972 -0.001321\n",
            "   -0.00114155]\n",
            "  ...\n",
            "  [ 0.07142857  0.06078665  0.4011335  ...  0.          0.\n",
            "    0.        ]\n",
            "  [ 0.07277628  0.06078665  0.40176322 ...  0.00062972  0.\n",
            "    0.        ]\n",
            "  [ 0.07277628  0.06197855  0.40176322 ...  0.          0.\n",
            "    0.00228311]]]\n",
            "(44921, 1)\n",
            "[[1.53]\n",
            " [1.53]\n",
            " [1.53]\n",
            " ...\n",
            " [1.62]\n",
            " [1.62]\n",
            " [1.63]]\n"
          ]
        }
      ]
    },
    {
      "cell_type": "code",
      "metadata": {
        "colab": {
          "base_uri": "https://localhost:8080/"
        },
        "id": "yKShxUD08fQX",
        "outputId": "25e70f23-9467-4e4a-bbb7-0fe6809973a4"
      },
      "source": [
        "print(np.isnan(dataset_X_reshaped).sum())\n",
        "print(np.isnan(dataset_y_reshaped).sum())"
      ],
      "execution_count": null,
      "outputs": [
        {
          "output_type": "stream",
          "name": "stdout",
          "text": [
            "0\n",
            "0\n"
          ]
        }
      ]
    },
    {
      "cell_type": "code",
      "metadata": {
        "colab": {
          "base_uri": "https://localhost:8080/",
          "height": 1000
        },
        "id": "AX0MXgoM8l6n",
        "outputId": "4478418e-1356-4a04-b808-a681f4642503"
      },
      "source": [
        "plt.figure(figsize=(20,6))\n",
        "plt.plot(dataset_y_reshaped)\n",
        "plt.show()\n",
        "\n",
        "plt.figure(figsize=(20,6))\n",
        "plt.plot(dataset_y_reshaped[40000:])\n",
        "plt.show()\n",
        "\n",
        "plt.figure(figsize=(20,6))\n",
        "plt.plot(dataset_y_reshaped[30000:40000])\n",
        "plt.show()"
      ],
      "execution_count": null,
      "outputs": [
        {
          "output_type": "display_data",
          "data": {
            "image/png": "[encoded data removed]",
            "text/plain": [
              "<Figure size 1440x432 with 1 Axes>"
            ]
          },
          "metadata": {
            "needs_background": "light"
          }
        },
        {
          "output_type": "display_data",
          "data": {
            "image/png": "[encoded data removed]",
            "text/plain": [
              "<Figure size 1440x432 with 1 Axes>"
            ]
          },
          "metadata": {
            "needs_background": "light"
          }
        },
        {
          "output_type": "display_data",
          "data": {
            "image/png": "[encoded data removed]",
            "text/plain": [
              "<Figure size 1440x432 with 1 Axes>"
            ]
          },
          "metadata": {
            "needs_background": "light"
          }
        }
      ]
    },
    {
      "cell_type": "code",
      "metadata": {
        "colab": {
          "base_uri": "https://localhost:8080/"
        },
        "id": "HnS6kw2gJKSq",
        "outputId": "dde56c23-c3a0-427f-a4ec-c06bc51a71ce"
      },
      "source": [
        "#X_train, X_test, y_train, y_test = train_test_split(dataset_X_reshaped, dataset_y_reshaped, test_size=0.01)\n",
        "\n",
        "# 50000번째 까지를 훈련데이터셋으로\n",
        "# 그이후를 테스트데이터셋으로 구성함\n",
        "X_train = dataset_X_reshaped[0:30000,:,:]\n",
        "X_val = dataset_X_reshaped[30000:40000,:,:]\n",
        "X_test = dataset_X_reshaped[40000:,:,:]\n",
        "\n",
        "y_train = dataset_y_reshaped[0:30000]\n",
        "y_val = dataset_y_reshaped[30000:40000]\n",
        "y_test = dataset_y_reshaped[40000:]\n",
        "\n",
        "print(X_train.shape)\n",
        "print(X_test.shape)\n",
        "print(y_train.shape)\n",
        "print(y_test.shape)"
      ],
      "execution_count": null,
      "outputs": [
        {
          "output_type": "stream",
          "name": "stdout",
          "text": [
            "(30000, 240, 14)\n",
            "(4921, 240, 14)\n",
            "(30000, 1)\n",
            "(4921, 1)\n"
          ]
        }
      ]
    },
    {
      "cell_type": "code",
      "metadata": {
        "id": "NVD04rRdCkbQ"
      },
      "source": [
        "drop_out_rate = 0.05"
      ],
      "execution_count": null,
      "outputs": []
    },
    {
      "cell_type": "code",
      "metadata": {
        "id": "woP_YyKviiQf",
        "colab": {
          "base_uri": "https://localhost:8080/"
        },
        "outputId": "5afdc342-5be1-4390-e543-e4377a8ce92e"
      },
      "source": [
        "# 기본 lstm모형을 생성\n",
        "# lstm 은 stacked lstm형태로, stacked될 경우 return_sequence = TRUE 옵션 필요\n",
        "# training=True옵션을 통해 dropout을 이용하여 매번 다른 결과값이 생성됨\n",
        "# early stopping을 적용하여, 최적의 epoch를 결정함\n",
        "# 현재 patience는 5로 설정되어 있음\n",
        "\n",
        "\n",
        "def base_lstm_64(X_train, y_train, verbose = 1):\n",
        "  inputs = Input(shape = (X_train.shape[1],X_train.shape[2]), name='inputs')\n",
        "  x = LSTM(64, return_sequences=True, recurrent_dropout=drop_out_rate)(inputs, training=True) \n",
        "  x = LSTM(64, recurrent_dropout=drop_out_rate)(x, training=True) \n",
        "  x = Dropout(drop_out_rate)(x, training=True) \n",
        "  output = Dense(units = 1, activation='linear', name='OUTPUT')(x)\n",
        "  model = Model(inputs=inputs, outputs=output)\n",
        "  opt = Adam()\n",
        "  model.compile(loss='mean_squared_error', optimizer=opt, metrics=['mae'])\n",
        "  \n",
        "  epc = 1000\n",
        "  es = EarlyStopping(monitor='val_loss', mode='min', patience=10, restore_best_weights=True)\n",
        "  history = model.fit(X_train, y_train, validation_data=(X_val, y_val), \n",
        "                      epochs=epc, verbose=verbose, callbacks=[es], \n",
        "                      batch_size=1024)\n",
        "  return model\n",
        " \n",
        "model_base_64 = base_lstm_64(X_train, y_train)\n"
      ],
      "execution_count": null,
      "outputs": [
        {
          "output_type": "stream",
          "name": "stdout",
          "text": [
            "Train on 30000 samples, validate on 10000 samples\n",
            "Epoch 1/1000\n",
            "30000/30000 [==============================] - 11s 368us/step - loss: 0.7740 - mae: 0.6759 - val_loss: 0.1365 - val_mae: 0.2475\n",
            "Epoch 2/1000\n",
            "30000/30000 [==============================] - 10s 349us/step - loss: 0.0482 - mae: 0.1458 - val_loss: 0.0859 - val_mae: 0.1476\n",
            "Epoch 3/1000\n",
            "30000/30000 [==============================] - 10s 347us/step - loss: 0.0301 - mae: 0.1165 - val_loss: 0.0629 - val_mae: 0.1526\n",
            "Epoch 4/1000\n",
            "30000/30000 [==============================] - 10s 344us/step - loss: 0.0222 - mae: 0.1068 - val_loss: 0.0504 - val_mae: 0.1533\n",
            "Epoch 5/1000\n",
            "30000/30000 [==============================] - 10s 345us/step - loss: 0.0179 - mae: 0.0989 - val_loss: 0.0458 - val_mae: 0.1530\n",
            "Epoch 6/1000\n",
            "30000/30000 [==============================] - 10s 348us/step - loss: 0.0151 - mae: 0.0919 - val_loss: 0.0543 - val_mae: 0.1641\n",
            "Epoch 7/1000\n",
            "30000/30000 [==============================] - 11s 351us/step - loss: 0.0135 - mae: 0.0869 - val_loss: 0.0636 - val_mae: 0.1751\n",
            "Epoch 8/1000\n",
            "30000/30000 [==============================] - 11s 352us/step - loss: 0.0118 - mae: 0.0821 - val_loss: 0.0702 - val_mae: 0.1817\n",
            "Epoch 9/1000\n",
            "30000/30000 [==============================] - 11s 354us/step - loss: 0.0108 - mae: 0.0787 - val_loss: 0.0860 - val_mae: 0.1948\n",
            "Epoch 10/1000\n",
            "30000/30000 [==============================] - 11s 351us/step - loss: 0.0099 - mae: 0.0755 - val_loss: 0.0917 - val_mae: 0.1986\n",
            "Epoch 11/1000\n",
            "30000/30000 [==============================] - 10s 341us/step - loss: 0.0090 - mae: 0.0724 - val_loss: 0.1003 - val_mae: 0.2045\n",
            "Epoch 12/1000\n",
            "30000/30000 [==============================] - 11s 350us/step - loss: 0.0087 - mae: 0.0708 - val_loss: 0.1092 - val_mae: 0.2098\n",
            "Epoch 13/1000\n",
            "30000/30000 [==============================] - 10s 347us/step - loss: 0.0080 - mae: 0.0684 - val_loss: 0.1062 - val_mae: 0.2095\n",
            "Epoch 14/1000\n",
            "30000/30000 [==============================] - 10s 348us/step - loss: 0.0076 - mae: 0.0663 - val_loss: 0.1287 - val_mae: 0.2219\n",
            "Epoch 15/1000\n",
            "30000/30000 [==============================] - 11s 355us/step - loss: 0.0072 - mae: 0.0647 - val_loss: 0.1215 - val_mae: 0.2172\n"
          ]
        }
      ]
    },
    {
      "cell_type": "code",
      "metadata": {
        "colab": {
          "base_uri": "https://localhost:8080/"
        },
        "id": "TWmoT_iVO7h3",
        "outputId": "13e74b6e-d315-4f18-e015-f6f8446bee3e"
      },
      "source": [
        "def base_lstm_128(X_train, y_train, verbose = 1):\n",
        "  inputs = Input(shape = (X_train.shape[1],X_train.shape[2]), name='inputs')\n",
        "  x = LSTM(128, return_sequences=True, recurrent_dropout=drop_out_rate)(inputs, training=True) \n",
        "  x = LSTM(128, recurrent_dropout=drop_out_rate)(x, training=True) \n",
        "  x = Dropout(drop_out_rate)(x, training=True) \n",
        "  output = Dense(units = 1, activation='linear', name='OUTPUT')(x)\n",
        "  model = Model(inputs=inputs, outputs=output)\n",
        "  opt = Adam()\n",
        "  model.compile(loss='mean_squared_error', optimizer=opt, metrics=['mae'])\n",
        "  \n",
        "  epc = 1000\n",
        "  es = EarlyStopping(monitor='val_loss', mode='min', patience=10, restore_best_weights=True)\n",
        "  history = model.fit(X_train, y_train, validation_data=(X_val, y_val), \n",
        "                      epochs=epc, verbose=verbose, callbacks=[es], \n",
        "                      batch_size=1024)\n",
        "  return model\n",
        " \n",
        "model_base_128 = base_lstm_128(X_train, y_train)\n"
      ],
      "execution_count": null,
      "outputs": [
        {
          "output_type": "stream",
          "name": "stdout",
          "text": [
            "Train on 30000 samples, validate on 10000 samples\n",
            "Epoch 1/1000\n",
            "30000/30000 [==============================] - 12s 390us/step - loss: 0.7159 - mae: 0.6895 - val_loss: 0.0854 - val_mae: 0.1467\n",
            "Epoch 2/1000\n",
            "30000/30000 [==============================] - 11s 371us/step - loss: 0.0384 - mae: 0.1290 - val_loss: 0.0800 - val_mae: 0.1405\n",
            "Epoch 3/1000\n",
            "30000/30000 [==============================] - 11s 371us/step - loss: 0.0241 - mae: 0.0923 - val_loss: 0.0704 - val_mae: 0.1463\n",
            "Epoch 4/1000\n",
            "30000/30000 [==============================] - 11s 370us/step - loss: 0.0188 - mae: 0.0867 - val_loss: 0.0593 - val_mae: 0.1497\n",
            "Epoch 5/1000\n",
            "30000/30000 [==============================] - 11s 365us/step - loss: 0.0150 - mae: 0.0816 - val_loss: 0.0505 - val_mae: 0.1477\n",
            "Epoch 6/1000\n",
            "30000/30000 [==============================] - 11s 367us/step - loss: 0.0121 - mae: 0.0766 - val_loss: 0.0421 - val_mae: 0.1415\n",
            "Epoch 7/1000\n",
            "30000/30000 [==============================] - 11s 380us/step - loss: 0.0098 - mae: 0.0717 - val_loss: 0.0403 - val_mae: 0.1394\n",
            "Epoch 8/1000\n",
            "30000/30000 [==============================] - 11s 375us/step - loss: 0.0083 - mae: 0.0674 - val_loss: 0.0406 - val_mae: 0.1405\n",
            "Epoch 9/1000\n",
            "30000/30000 [==============================] - 11s 370us/step - loss: 0.0077 - mae: 0.0651 - val_loss: 0.0447 - val_mae: 0.1441\n",
            "Epoch 10/1000\n",
            "30000/30000 [==============================] - 11s 365us/step - loss: 0.0072 - mae: 0.0631 - val_loss: 0.0540 - val_mae: 0.1556\n",
            "Epoch 11/1000\n",
            "30000/30000 [==============================] - 11s 368us/step - loss: 0.0067 - mae: 0.0612 - val_loss: 0.0530 - val_mae: 0.1531\n",
            "Epoch 12/1000\n",
            "30000/30000 [==============================] - 11s 371us/step - loss: 0.0066 - mae: 0.0606 - val_loss: 0.0528 - val_mae: 0.1526\n",
            "Epoch 13/1000\n",
            "30000/30000 [==============================] - 11s 372us/step - loss: 0.0063 - mae: 0.0593 - val_loss: 0.0569 - val_mae: 0.1568\n",
            "Epoch 14/1000\n",
            "30000/30000 [==============================] - 11s 367us/step - loss: 0.0061 - mae: 0.0586 - val_loss: 0.0622 - val_mae: 0.1615\n",
            "Epoch 15/1000\n",
            "30000/30000 [==============================] - 11s 367us/step - loss: 0.0059 - mae: 0.0579 - val_loss: 0.0590 - val_mae: 0.1582\n",
            "Epoch 16/1000\n",
            "30000/30000 [==============================] - 11s 372us/step - loss: 0.0057 - mae: 0.0565 - val_loss: 0.0630 - val_mae: 0.1617\n",
            "Epoch 17/1000\n",
            "30000/30000 [==============================] - 11s 370us/step - loss: 0.0055 - mae: 0.0555 - val_loss: 0.0614 - val_mae: 0.1601\n"
          ]
        }
      ]
    },
    {
      "cell_type": "code",
      "metadata": {
        "colab": {
          "base_uri": "https://localhost:8080/"
        },
        "id": "wAnD_pn5TvYE",
        "outputId": "501dbba6-89ad-40bb-820a-31fddff42e8d"
      },
      "source": [
        "def base_lstm_512(X_train, y_train, verbose = 1):\n",
        "  inputs = Input(shape = (X_train.shape[1],X_train.shape[2]), name='inputs')\n",
        "  x = LSTM(512, return_sequences=True, recurrent_dropout=drop_out_rate)(inputs, training=True) \n",
        "  x = LSTM(512, recurrent_dropout=drop_out_rate)(x, training=True) \n",
        "  x = Dropout(drop_out_rate)(x, training=True) \n",
        "  output = Dense(units = 1, activation='linear', name='OUTPUT')(x)\n",
        "  model = Model(inputs=inputs, outputs=output)\n",
        "  opt = Adam()\n",
        "  model.compile(loss='mean_squared_error', optimizer=opt, metrics=['mae'])\n",
        "  \n",
        "  epc = 1000\n",
        "  es = EarlyStopping(monitor='val_loss', mode='min', patience=10, restore_best_weights=True)\n",
        "  history = model.fit(X_train, y_train, validation_data=(X_val, y_val), \n",
        "                      epochs=epc, verbose=verbose, callbacks=[es], \n",
        "                      batch_size=1024)\n",
        "  return model\n",
        " \n",
        "model_base_512 = base_lstm_512(X_train, y_train)\n"
      ],
      "execution_count": null,
      "outputs": [
        {
          "output_type": "stream",
          "name": "stdout",
          "text": [
            "Train on 30000 samples, validate on 10000 samples\n",
            "Epoch 1/1000\n",
            "30000/30000 [==============================] - 42s 1ms/step - loss: 4.8036 - mae: 1.3640 - val_loss: 0.1707 - val_mae: 0.2514\n",
            "Epoch 2/1000\n",
            "30000/30000 [==============================] - 41s 1ms/step - loss: 0.0687 - mae: 0.1762 - val_loss: 0.0988 - val_mae: 0.1310\n",
            "Epoch 3/1000\n",
            "30000/30000 [==============================] - 41s 1ms/step - loss: 0.0249 - mae: 0.0867 - val_loss: 0.0650 - val_mae: 0.1491\n",
            "Epoch 4/1000\n",
            "30000/30000 [==============================] - 41s 1ms/step - loss: 0.0138 - mae: 0.0749 - val_loss: 0.0522 - val_mae: 0.1521\n",
            "Epoch 5/1000\n",
            "30000/30000 [==============================] - 41s 1ms/step - loss: 0.0097 - mae: 0.0695 - val_loss: 0.0497 - val_mae: 0.1566\n",
            "Epoch 6/1000\n",
            "30000/30000 [==============================] - 41s 1ms/step - loss: 0.0078 - mae: 0.0641 - val_loss: 0.0525 - val_mae: 0.1578\n",
            "Epoch 7/1000\n",
            "30000/30000 [==============================] - 41s 1ms/step - loss: 0.0070 - mae: 0.0610 - val_loss: 0.0632 - val_mae: 0.1664\n",
            "Epoch 8/1000\n",
            "30000/30000 [==============================] - 41s 1ms/step - loss: 0.0063 - mae: 0.0586 - val_loss: 0.0743 - val_mae: 0.1744\n",
            "Epoch 9/1000\n",
            "30000/30000 [==============================] - 41s 1ms/step - loss: 0.0058 - mae: 0.0562 - val_loss: 0.0876 - val_mae: 0.1862\n",
            "Epoch 10/1000\n",
            "30000/30000 [==============================] - 41s 1ms/step - loss: 0.0052 - mae: 0.0536 - val_loss: 0.0937 - val_mae: 0.1924\n",
            "Epoch 11/1000\n",
            "30000/30000 [==============================] - 41s 1ms/step - loss: 0.0050 - mae: 0.0523 - val_loss: 0.1077 - val_mae: 0.2019\n",
            "Epoch 12/1000\n",
            "30000/30000 [==============================] - 41s 1ms/step - loss: 0.0046 - mae: 0.0507 - val_loss: 0.1121 - val_mae: 0.2029\n",
            "Epoch 13/1000\n",
            "30000/30000 [==============================] - 41s 1ms/step - loss: 0.0044 - mae: 0.0493 - val_loss: 0.1204 - val_mae: 0.2093\n",
            "Epoch 14/1000\n",
            "30000/30000 [==============================] - 41s 1ms/step - loss: 0.0041 - mae: 0.0481 - val_loss: 0.1381 - val_mae: 0.2165\n",
            "Epoch 15/1000\n",
            "30000/30000 [==============================] - 41s 1ms/step - loss: 0.0041 - mae: 0.0479 - val_loss: 0.1354 - val_mae: 0.2158\n"
          ]
        }
      ]
    },
    {
      "cell_type": "code",
      "metadata": {
        "colab": {
          "base_uri": "https://localhost:8080/"
        },
        "id": "skI72luGgcGD",
        "outputId": "4acaecef-18f2-46a6-befe-1b86caf378b6"
      },
      "source": [
        "# 테스트 데이터셋에서 수위가 가장높았던 상위 10개 시점의 인덱스를 구함\n",
        "\n",
        "idx = (-y_test).argsort(axis=None)[:10]\n",
        "idx"
      ],
      "execution_count": null,
      "outputs": [
        {
          "output_type": "execute_result",
          "data": {
            "text/plain": [
              "array([2893, 2892, 2890, 2894, 2895, 2891, 2889, 2896, 2888, 2897])"
            ]
          },
          "metadata": {},
          "execution_count": 31
        }
      ]
    },
    {
      "cell_type": "code",
      "metadata": {
        "id": "n7vE3Ej2gcJY"
      },
      "source": [
        "# 위에서 뽑은 인덱스로 데이터셋을 구성\n",
        "X_test_high_top10 = X_test[np.array(idx)]\n",
        "y_test_high_top10 = y_test[np.array(idx)]"
      ],
      "execution_count": null,
      "outputs": []
    },
    {
      "cell_type": "code",
      "metadata": {
        "id": "RfOYxt1Q2C6P"
      },
      "source": [
        "def predict_dist(X, model, num_samples):\n",
        "    preds = [model.predict(X) for _ in range(num_samples)]\n",
        "    return np.hstack(preds)"
      ],
      "execution_count": null,
      "outputs": []
    },
    {
      "cell_type": "code",
      "metadata": {
        "colab": {
          "base_uri": "https://localhost:8080/",
          "height": 392
        },
        "id": "oZnl451F_bn4",
        "outputId": "dbd89f41-60d8-46a0-d09d-1b9e9e38b429"
      },
      "source": [
        "# 하나의 데이터셋에 대해 30개의 예측치를 도출하고,\n",
        "# 이것의 평균과 분산을 구함\n",
        "model = model_base_64\n",
        "\n",
        "y_pred_dist = predict_dist(X_test_high_top10, model, 30)\n",
        "pred_mean = y_pred_dist.mean(axis=1)\n",
        "pred_std = y_pred_dist.std(axis=1)\n",
        "\n",
        "display(pd.DataFrame({'Obs' : y_test_high_top10.flatten(), 'Pred' : pred_mean.flatten()}))\n",
        "\n",
        "from sklearn.metrics import mean_squared_error \n",
        "MSE = mean_squared_error(pred_mean.flatten(), y_test_high_top10.flatten()) \n",
        "print(np.sqrt(MSE))\n",
        "\n",
        "print(pred_std.mean())\n",
        "\n"
      ],
      "execution_count": null,
      "outputs": [
        {
          "output_type": "display_data",
          "data": {
            "text/html": [
              "<div>\n",
              "<style scoped>\n",
              "    .dataframe tbody tr th:only-of-type {\n",
              "        vertical-align: middle;\n",
              "    }\n",
              "\n",
              "    .dataframe tbody tr th {\n",
              "        vertical-align: top;\n",
              "    }\n",
              "\n",
              "    .dataframe thead th {\n",
              "        text-align: right;\n",
              "    }\n",
              "</style>\n",
              "<table border=\"1\" class=\"dataframe\">\n",
              "  <thead>\n",
              "    <tr style=\"text-align: right;\">\n",
              "      <th></th>\n",
              "      <th>Obs</th>\n",
              "      <th>Pred</th>\n",
              "    </tr>\n",
              "  </thead>\n",
              "  <tbody>\n",
              "    <tr>\n",
              "      <th>0</th>\n",
              "      <td>8.50</td>\n",
              "      <td>6.080211</td>\n",
              "    </tr>\n",
              "    <tr>\n",
              "      <th>1</th>\n",
              "      <td>8.50</td>\n",
              "      <td>6.171256</td>\n",
              "    </tr>\n",
              "    <tr>\n",
              "      <th>2</th>\n",
              "      <td>8.50</td>\n",
              "      <td>6.120097</td>\n",
              "    </tr>\n",
              "    <tr>\n",
              "      <th>3</th>\n",
              "      <td>8.50</td>\n",
              "      <td>6.001589</td>\n",
              "    </tr>\n",
              "    <tr>\n",
              "      <th>4</th>\n",
              "      <td>8.50</td>\n",
              "      <td>6.027858</td>\n",
              "    </tr>\n",
              "    <tr>\n",
              "      <th>5</th>\n",
              "      <td>8.50</td>\n",
              "      <td>6.014647</td>\n",
              "    </tr>\n",
              "    <tr>\n",
              "      <th>6</th>\n",
              "      <td>8.49</td>\n",
              "      <td>6.078299</td>\n",
              "    </tr>\n",
              "    <tr>\n",
              "      <th>7</th>\n",
              "      <td>8.48</td>\n",
              "      <td>6.092206</td>\n",
              "    </tr>\n",
              "    <tr>\n",
              "      <th>8</th>\n",
              "      <td>8.47</td>\n",
              "      <td>6.037967</td>\n",
              "    </tr>\n",
              "    <tr>\n",
              "      <th>9</th>\n",
              "      <td>8.46</td>\n",
              "      <td>6.102411</td>\n",
              "    </tr>\n",
              "  </tbody>\n",
              "</table>\n",
              "</div>"
            ],
            "text/plain": [
              "    Obs      Pred\n",
              "0  8.50  6.080211\n",
              "1  8.50  6.171256\n",
              "2  8.50  6.120097\n",
              "3  8.50  6.001589\n",
              "4  8.50  6.027858\n",
              "5  8.50  6.014647\n",
              "6  8.49  6.078299\n",
              "7  8.48  6.092206\n",
              "8  8.47  6.037967\n",
              "9  8.46  6.102411"
            ]
          },
          "metadata": {}
        },
        {
          "output_type": "stream",
          "name": "stdout",
          "text": [
            "2.4179281075320067\n",
            "0.24369541\n"
          ]
        }
      ]
    },
    {
      "cell_type": "code",
      "metadata": {
        "colab": {
          "base_uri": "https://localhost:8080/",
          "height": 392
        },
        "id": "WMN2opsP_bqz",
        "outputId": "ec1163b3-d7d8-4046-815f-aa46867f131d"
      },
      "source": [
        "# 하나의 데이터셋에 대해 30개의 예측치를 도출하고,\n",
        "# 이것의 평균과 분산을 구함\n",
        "model = model_base_128\n",
        "\n",
        "y_pred_dist = predict_dist(X_test_high_top10, model, 30)\n",
        "pred_mean = y_pred_dist.mean(axis=1)\n",
        "pred_std = y_pred_dist.std(axis=1)\n",
        "\n",
        "display(pd.DataFrame({'Obs' : y_test_high_top10.flatten(), 'Pred' : pred_mean.flatten()}))\n",
        "\n",
        "from sklearn.metrics import mean_squared_error \n",
        "MSE = mean_squared_error(pred_mean.flatten(), y_test_high_top10.flatten()) \n",
        "print(np.sqrt(MSE))\n",
        "\n",
        "print(pred_std.mean())"
      ],
      "execution_count": null,
      "outputs": [
        {
          "output_type": "display_data",
          "data": {
            "text/html": [
              "<div>\n",
              "<style scoped>\n",
              "    .dataframe tbody tr th:only-of-type {\n",
              "        vertical-align: middle;\n",
              "    }\n",
              "\n",
              "    .dataframe tbody tr th {\n",
              "        vertical-align: top;\n",
              "    }\n",
              "\n",
              "    .dataframe thead th {\n",
              "        text-align: right;\n",
              "    }\n",
              "</style>\n",
              "<table border=\"1\" class=\"dataframe\">\n",
              "  <thead>\n",
              "    <tr style=\"text-align: right;\">\n",
              "      <th></th>\n",
              "      <th>Obs</th>\n",
              "      <th>Pred</th>\n",
              "    </tr>\n",
              "  </thead>\n",
              "  <tbody>\n",
              "    <tr>\n",
              "      <th>0</th>\n",
              "      <td>8.50</td>\n",
              "      <td>6.937364</td>\n",
              "    </tr>\n",
              "    <tr>\n",
              "      <th>1</th>\n",
              "      <td>8.50</td>\n",
              "      <td>6.855599</td>\n",
              "    </tr>\n",
              "    <tr>\n",
              "      <th>2</th>\n",
              "      <td>8.50</td>\n",
              "      <td>6.884595</td>\n",
              "    </tr>\n",
              "    <tr>\n",
              "      <th>3</th>\n",
              "      <td>8.50</td>\n",
              "      <td>6.937609</td>\n",
              "    </tr>\n",
              "    <tr>\n",
              "      <th>4</th>\n",
              "      <td>8.50</td>\n",
              "      <td>6.847431</td>\n",
              "    </tr>\n",
              "    <tr>\n",
              "      <th>5</th>\n",
              "      <td>8.50</td>\n",
              "      <td>6.862909</td>\n",
              "    </tr>\n",
              "    <tr>\n",
              "      <th>6</th>\n",
              "      <td>8.49</td>\n",
              "      <td>6.857168</td>\n",
              "    </tr>\n",
              "    <tr>\n",
              "      <th>7</th>\n",
              "      <td>8.48</td>\n",
              "      <td>6.863735</td>\n",
              "    </tr>\n",
              "    <tr>\n",
              "      <th>8</th>\n",
              "      <td>8.47</td>\n",
              "      <td>6.828601</td>\n",
              "    </tr>\n",
              "    <tr>\n",
              "      <th>9</th>\n",
              "      <td>8.46</td>\n",
              "      <td>6.905517</td>\n",
              "    </tr>\n",
              "  </tbody>\n",
              "</table>\n",
              "</div>"
            ],
            "text/plain": [
              "    Obs      Pred\n",
              "0  8.50  6.937364\n",
              "1  8.50  6.855599\n",
              "2  8.50  6.884595\n",
              "3  8.50  6.937609\n",
              "4  8.50  6.847431\n",
              "5  8.50  6.862909\n",
              "6  8.49  6.857168\n",
              "7  8.48  6.863735\n",
              "8  8.47  6.828601\n",
              "9  8.46  6.905517"
            ]
          },
          "metadata": {}
        },
        {
          "output_type": "stream",
          "name": "stdout",
          "text": [
            "1.6123459705063228\n",
            "0.23128709\n"
          ]
        }
      ]
    },
    {
      "cell_type": "code",
      "metadata": {
        "colab": {
          "base_uri": "https://localhost:8080/",
          "height": 392
        },
        "id": "2Hcov7tVTsqT",
        "outputId": "cd5eaec4-7e24-405c-a07c-414af55cf5bc"
      },
      "source": [
        "# 하나의 데이터셋에 대해 30개의 예측치를 도출하고,\n",
        "# 이것의 평균과 분산을 구함\n",
        "model = model_base_512\n",
        "\n",
        "y_pred_dist = predict_dist(X_test_high_top10, model, 30)\n",
        "pred_mean = y_pred_dist.mean(axis=1)\n",
        "pred_std = y_pred_dist.std(axis=1)\n",
        "\n",
        "display(pd.DataFrame({'Obs' : y_test_high_top10.flatten(), 'Pred' : pred_mean.flatten()}))\n",
        "\n",
        "from sklearn.metrics import mean_squared_error \n",
        "MSE = mean_squared_error(pred_mean.flatten(), y_test_high_top10.flatten()) \n",
        "print(np.sqrt(MSE))\n",
        "\n",
        "print(pred_std.mean())"
      ],
      "execution_count": null,
      "outputs": [
        {
          "output_type": "display_data",
          "data": {
            "text/html": [
              "<div>\n",
              "<style scoped>\n",
              "    .dataframe tbody tr th:only-of-type {\n",
              "        vertical-align: middle;\n",
              "    }\n",
              "\n",
              "    .dataframe tbody tr th {\n",
              "        vertical-align: top;\n",
              "    }\n",
              "\n",
              "    .dataframe thead th {\n",
              "        text-align: right;\n",
              "    }\n",
              "</style>\n",
              "<table border=\"1\" class=\"dataframe\">\n",
              "  <thead>\n",
              "    <tr style=\"text-align: right;\">\n",
              "      <th></th>\n",
              "      <th>Obs</th>\n",
              "      <th>Pred</th>\n",
              "    </tr>\n",
              "  </thead>\n",
              "  <tbody>\n",
              "    <tr>\n",
              "      <th>0</th>\n",
              "      <td>8.50</td>\n",
              "      <td>6.557815</td>\n",
              "    </tr>\n",
              "    <tr>\n",
              "      <th>1</th>\n",
              "      <td>8.50</td>\n",
              "      <td>6.563834</td>\n",
              "    </tr>\n",
              "    <tr>\n",
              "      <th>2</th>\n",
              "      <td>8.50</td>\n",
              "      <td>6.559033</td>\n",
              "    </tr>\n",
              "    <tr>\n",
              "      <th>3</th>\n",
              "      <td>8.50</td>\n",
              "      <td>6.538542</td>\n",
              "    </tr>\n",
              "    <tr>\n",
              "      <th>4</th>\n",
              "      <td>8.50</td>\n",
              "      <td>6.535638</td>\n",
              "    </tr>\n",
              "    <tr>\n",
              "      <th>5</th>\n",
              "      <td>8.50</td>\n",
              "      <td>6.572764</td>\n",
              "    </tr>\n",
              "    <tr>\n",
              "      <th>6</th>\n",
              "      <td>8.49</td>\n",
              "      <td>6.494957</td>\n",
              "    </tr>\n",
              "    <tr>\n",
              "      <th>7</th>\n",
              "      <td>8.48</td>\n",
              "      <td>6.566346</td>\n",
              "    </tr>\n",
              "    <tr>\n",
              "      <th>8</th>\n",
              "      <td>8.47</td>\n",
              "      <td>6.503311</td>\n",
              "    </tr>\n",
              "    <tr>\n",
              "      <th>9</th>\n",
              "      <td>8.46</td>\n",
              "      <td>6.563894</td>\n",
              "    </tr>\n",
              "  </tbody>\n",
              "</table>\n",
              "</div>"
            ],
            "text/plain": [
              "    Obs      Pred\n",
              "0  8.50  6.557815\n",
              "1  8.50  6.563834\n",
              "2  8.50  6.559033\n",
              "3  8.50  6.538542\n",
              "4  8.50  6.535638\n",
              "5  8.50  6.572764\n",
              "6  8.49  6.494957\n",
              "7  8.48  6.566346\n",
              "8  8.47  6.503311\n",
              "9  8.46  6.563894"
            ]
          },
          "metadata": {}
        },
        {
          "output_type": "stream",
          "name": "stdout",
          "text": [
            "1.9445771440968889\n",
            "0.17467794\n"
          ]
        }
      ]
    },
    {
      "cell_type": "code",
      "metadata": {
        "id": "xxhTiLdO0tLS"
      },
      "source": [
        ""
      ],
      "execution_count": null,
      "outputs": []
    },
    {
      "cell_type": "code",
      "metadata": {
        "id": "63rfGrBqJ3_H"
      },
      "source": [
        ""
      ],
      "execution_count": null,
      "outputs": []
    },
    {
      "cell_type": "code",
      "metadata": {
        "id": "U75xuxf5J4Bv"
      },
      "source": [
        ""
      ],
      "execution_count": null,
      "outputs": []
    },
    {
      "cell_type": "code",
      "metadata": {
        "id": "jEQBmqXtJ4E5"
      },
      "source": [
        ""
      ],
      "execution_count": null,
      "outputs": []
    },
    {
      "cell_type": "code",
      "metadata": {
        "id": "FVw-eLfHk4pp",
        "colab": {
          "base_uri": "https://localhost:8080/"
        },
        "outputId": "93c10552-5b83-48e7-db32-af6b3a7fcbbd"
      },
      "source": [
        "strix = 40000\n",
        "\n",
        "X_test = dataset_X_reshaped[strix:,:,:]\n",
        "y_test = dataset_y_reshaped[strix:]\n",
        "\n",
        "print(X_test.shape)\n",
        "print(y_test.shape)"
      ],
      "execution_count": null,
      "outputs": [
        {
          "output_type": "stream",
          "name": "stdout",
          "text": [
            "(4921, 240, 14)\n",
            "(4921, 1)\n"
          ]
        }
      ]
    },
    {
      "cell_type": "code",
      "metadata": {
        "colab": {
          "base_uri": "https://localhost:8080/",
          "height": 282
        },
        "id": "miqQ9YvBWSpl",
        "outputId": "25a44412-144a-4023-b42a-144db5e7bb00"
      },
      "source": [
        "plt.plot(y_test)"
      ],
      "execution_count": null,
      "outputs": [
        {
          "output_type": "execute_result",
          "data": {
            "text/plain": [
              "[<matplotlib.lines.Line2D at 0x7fab25690710>]"
            ]
          },
          "metadata": {},
          "execution_count": 68
        },
        {
          "output_type": "display_data",
          "data": {
            "image/png": "[encoded data removed]",
            "text/plain": [
              "<Figure size 432x288 with 1 Axes>"
            ]
          },
          "metadata": {
            "needs_background": "light"
          }
        }
      ]
    },
    {
      "cell_type": "code",
      "metadata": {
        "colab": {
          "base_uri": "https://localhost:8080/",
          "height": 282
        },
        "id": "9hJF0Q6jPLZg",
        "outputId": "d2a3cae0-7754-4f14-b7d6-70ab67dcda84"
      },
      "source": [
        "plt.plot(y_test[2800:3000])"
      ],
      "execution_count": null,
      "outputs": [
        {
          "output_type": "execute_result",
          "data": {
            "text/plain": [
              "[<matplotlib.lines.Line2D at 0x7fab2567c710>]"
            ]
          },
          "metadata": {},
          "execution_count": 69
        },
        {
          "output_type": "display_data",
          "data": {
            "image/png": "[encoded data removed]",
            "text/plain": [
              "<Figure size 432x288 with 1 Axes>"
            ]
          },
          "metadata": {
            "needs_background": "light"
          }
        }
      ]
    },
    {
      "cell_type": "code",
      "metadata": {
        "id": "OhCa2J3Ak4sf"
      },
      "source": [
        "y_pred_dist = predict_dist(X_test[2800:3000], model_base, 30)\n",
        "pred_mean = y_pred_dist.mean(axis=1)\n",
        "pred_std = y_pred_dist.std(axis=1)"
      ],
      "execution_count": null,
      "outputs": []
    },
    {
      "cell_type": "code",
      "metadata": {
        "id": "Y_-qSF6-h1Ws"
      },
      "source": [
        "prob_advisory = [] # 4m\n",
        "prob_warning = [] # 5m\n",
        "\n",
        "threshold_advisory = 7\n",
        "threshold_warning = 8\n",
        "\n",
        "for i in range(0,len(y_pred_dist)) :\n",
        "  ecdf = ECDF(y_pred_dist[i])\n",
        "  prob_advisory.append(1 - ecdf(2))\n",
        "  prob_warning.append(1 - ecdf(3))"
      ],
      "execution_count": null,
      "outputs": []
    },
    {
      "cell_type": "code",
      "metadata": {
        "colab": {
          "base_uri": "https://localhost:8080/"
        },
        "id": "9R_ErkriQSbq",
        "outputId": "4562b4cc-7d4b-4b10-e39f-a403234e78d6"
      },
      "source": [
        "y_test[2800:3000][:10]"
      ],
      "execution_count": null,
      "outputs": [
        {
          "output_type": "execute_result",
          "data": {
            "text/plain": [
              "array([[1.79],\n",
              "       [1.75],\n",
              "       [1.72],\n",
              "       [1.69],\n",
              "       [1.67],\n",
              "       [1.67],\n",
              "       [1.68],\n",
              "       [1.73],\n",
              "       [1.81],\n",
              "       [1.84]])"
            ]
          },
          "metadata": {},
          "execution_count": 72
        }
      ]
    },
    {
      "cell_type": "code",
      "metadata": {
        "colab": {
          "base_uri": "https://localhost:8080/"
        },
        "id": "hBdCQarpPhp4",
        "outputId": "1819e4d0-31b7-4aa5-8be7-6d78b9a0660e"
      },
      "source": [
        "a = df[df_in['2022610'] == 1.79].index + 4\n",
        "b = df[df_in['2022610'] == 1.75].index + 3\n",
        "c = df[df_in['2022610'] == 1.72].index + 2\n",
        "d = df[df_in['2022610'] == 1.69].index + 1\n",
        "e = df[df_in['2022610'] == 1.67].index\n",
        "\n",
        "list(set(a) & set(b) & set(c) & set(d) & set(e))"
      ],
      "execution_count": null,
      "outputs": [
        {
          "output_type": "execute_result",
          "data": {
            "text/plain": [
              "[46170]"
            ]
          },
          "metadata": {},
          "execution_count": 77
        }
      ]
    },
    {
      "cell_type": "code",
      "metadata": {
        "colab": {
          "base_uri": "https://localhost:8080/",
          "height": 417
        },
        "id": "6a4Ndi7FRX6Y",
        "outputId": "07673bb5-0cbc-46e6-f5f9-92fbe29f18c4"
      },
      "source": [
        "df[(46170-4):]"
      ],
      "execution_count": null,
      "outputs": [
        {
          "output_type": "execute_result",
          "data": {
            "text/html": [
              "<div>\n",
              "<style scoped>\n",
              "    .dataframe tbody tr th:only-of-type {\n",
              "        vertical-align: middle;\n",
              "    }\n",
              "\n",
              "    .dataframe tbody tr th {\n",
              "        vertical-align: top;\n",
              "    }\n",
              "\n",
              "    .dataframe thead th {\n",
              "        text-align: right;\n",
              "    }\n",
              "</style>\n",
              "<table border=\"1\" class=\"dataframe\">\n",
              "  <thead>\n",
              "    <tr style=\"text-align: right;\">\n",
              "      <th></th>\n",
              "      <th>Date</th>\n",
              "      <th>ymdh</th>\n",
              "      <th>2022610</th>\n",
              "      <th>2020675</th>\n",
              "      <th>2020650</th>\n",
              "      <th>2021685</th>\n",
              "      <th>2020680</th>\n",
              "      <th>20224050</th>\n",
              "      <th>20204020</th>\n",
              "      <th>20204030</th>\n",
              "      <th>20214020</th>\n",
              "    </tr>\n",
              "  </thead>\n",
              "  <tbody>\n",
              "    <tr>\n",
              "      <th>46166</th>\n",
              "      <td>2020-08-05 15:00:00</td>\n",
              "      <td>2020080515</td>\n",
              "      <td>1.79</td>\n",
              "      <td>1.48</td>\n",
              "      <td>5.33</td>\n",
              "      <td>1.15</td>\n",
              "      <td>1.63</td>\n",
              "      <td>0.0</td>\n",
              "      <td>0.0</td>\n",
              "      <td>0.0</td>\n",
              "      <td>0.0</td>\n",
              "    </tr>\n",
              "    <tr>\n",
              "      <th>46167</th>\n",
              "      <td>2020-08-05 16:00:00</td>\n",
              "      <td>2020080516</td>\n",
              "      <td>1.75</td>\n",
              "      <td>1.45</td>\n",
              "      <td>5.30</td>\n",
              "      <td>1.15</td>\n",
              "      <td>1.61</td>\n",
              "      <td>0.0</td>\n",
              "      <td>0.0</td>\n",
              "      <td>0.0</td>\n",
              "      <td>0.0</td>\n",
              "    </tr>\n",
              "    <tr>\n",
              "      <th>46168</th>\n",
              "      <td>2020-08-05 17:00:00</td>\n",
              "      <td>2020080517</td>\n",
              "      <td>1.72</td>\n",
              "      <td>1.42</td>\n",
              "      <td>5.28</td>\n",
              "      <td>1.12</td>\n",
              "      <td>1.58</td>\n",
              "      <td>0.0</td>\n",
              "      <td>0.0</td>\n",
              "      <td>0.0</td>\n",
              "      <td>0.0</td>\n",
              "    </tr>\n",
              "    <tr>\n",
              "      <th>46169</th>\n",
              "      <td>2020-08-05 18:00:00</td>\n",
              "      <td>2020080518</td>\n",
              "      <td>1.69</td>\n",
              "      <td>1.39</td>\n",
              "      <td>5.25</td>\n",
              "      <td>1.11</td>\n",
              "      <td>1.56</td>\n",
              "      <td>0.0</td>\n",
              "      <td>0.0</td>\n",
              "      <td>0.0</td>\n",
              "      <td>0.0</td>\n",
              "    </tr>\n",
              "    <tr>\n",
              "      <th>46170</th>\n",
              "      <td>2020-08-05 19:00:00</td>\n",
              "      <td>2020080519</td>\n",
              "      <td>1.67</td>\n",
              "      <td>1.36</td>\n",
              "      <td>5.23</td>\n",
              "      <td>1.09</td>\n",
              "      <td>1.53</td>\n",
              "      <td>0.0</td>\n",
              "      <td>0.0</td>\n",
              "      <td>0.0</td>\n",
              "      <td>0.0</td>\n",
              "    </tr>\n",
              "    <tr>\n",
              "      <th>...</th>\n",
              "      <td>...</td>\n",
              "      <td>...</td>\n",
              "      <td>...</td>\n",
              "      <td>...</td>\n",
              "      <td>...</td>\n",
              "      <td>...</td>\n",
              "      <td>...</td>\n",
              "      <td>...</td>\n",
              "      <td>...</td>\n",
              "      <td>...</td>\n",
              "      <td>...</td>\n",
              "    </tr>\n",
              "    <tr>\n",
              "      <th>48282</th>\n",
              "      <td>2020-11-01 19:00:00</td>\n",
              "      <td>2020110119</td>\n",
              "      <td>1.60</td>\n",
              "      <td>1.17</td>\n",
              "      <td>4.85</td>\n",
              "      <td>0.85</td>\n",
              "      <td>1.44</td>\n",
              "      <td>0.0</td>\n",
              "      <td>0.0</td>\n",
              "      <td>0.0</td>\n",
              "      <td>0.0</td>\n",
              "    </tr>\n",
              "    <tr>\n",
              "      <th>48283</th>\n",
              "      <td>2020-11-01 20:00:00</td>\n",
              "      <td>2020110120</td>\n",
              "      <td>1.61</td>\n",
              "      <td>1.19</td>\n",
              "      <td>4.85</td>\n",
              "      <td>0.85</td>\n",
              "      <td>1.44</td>\n",
              "      <td>0.0</td>\n",
              "      <td>0.0</td>\n",
              "      <td>0.0</td>\n",
              "      <td>0.0</td>\n",
              "    </tr>\n",
              "    <tr>\n",
              "      <th>48284</th>\n",
              "      <td>2020-11-01 21:00:00</td>\n",
              "      <td>2020110121</td>\n",
              "      <td>1.62</td>\n",
              "      <td>1.19</td>\n",
              "      <td>4.86</td>\n",
              "      <td>0.85</td>\n",
              "      <td>1.44</td>\n",
              "      <td>0.0</td>\n",
              "      <td>0.0</td>\n",
              "      <td>0.0</td>\n",
              "      <td>0.0</td>\n",
              "    </tr>\n",
              "    <tr>\n",
              "      <th>48285</th>\n",
              "      <td>2020-11-01 22:00:00</td>\n",
              "      <td>2020110122</td>\n",
              "      <td>1.62</td>\n",
              "      <td>1.20</td>\n",
              "      <td>4.86</td>\n",
              "      <td>0.85</td>\n",
              "      <td>1.45</td>\n",
              "      <td>0.0</td>\n",
              "      <td>0.0</td>\n",
              "      <td>0.0</td>\n",
              "      <td>0.0</td>\n",
              "    </tr>\n",
              "    <tr>\n",
              "      <th>48286</th>\n",
              "      <td>2020-11-01 23:00:00</td>\n",
              "      <td>2020110123</td>\n",
              "      <td>1.63</td>\n",
              "      <td>1.20</td>\n",
              "      <td>4.87</td>\n",
              "      <td>0.85</td>\n",
              "      <td>1.45</td>\n",
              "      <td>0.0</td>\n",
              "      <td>0.0</td>\n",
              "      <td>0.0</td>\n",
              "      <td>0.0</td>\n",
              "    </tr>\n",
              "  </tbody>\n",
              "</table>\n",
              "<p>2121 rows × 11 columns</p>\n",
              "</div>"
            ],
            "text/plain": [
              "                     Date        ymdh  2022610  ...  20204020  20204030  20214020\n",
              "46166 2020-08-05 15:00:00  2020080515     1.79  ...       0.0       0.0       0.0\n",
              "46167 2020-08-05 16:00:00  2020080516     1.75  ...       0.0       0.0       0.0\n",
              "46168 2020-08-05 17:00:00  2020080517     1.72  ...       0.0       0.0       0.0\n",
              "46169 2020-08-05 18:00:00  2020080518     1.69  ...       0.0       0.0       0.0\n",
              "46170 2020-08-05 19:00:00  2020080519     1.67  ...       0.0       0.0       0.0\n",
              "...                   ...         ...      ...  ...       ...       ...       ...\n",
              "48282 2020-11-01 19:00:00  2020110119     1.60  ...       0.0       0.0       0.0\n",
              "48283 2020-11-01 20:00:00  2020110120     1.61  ...       0.0       0.0       0.0\n",
              "48284 2020-11-01 21:00:00  2020110121     1.62  ...       0.0       0.0       0.0\n",
              "48285 2020-11-01 22:00:00  2020110122     1.62  ...       0.0       0.0       0.0\n",
              "48286 2020-11-01 23:00:00  2020110123     1.63  ...       0.0       0.0       0.0\n",
              "\n",
              "[2121 rows x 11 columns]"
            ]
          },
          "metadata": {},
          "execution_count": 78
        }
      ]
    },
    {
      "cell_type": "code",
      "metadata": {
        "colab": {
          "base_uri": "https://localhost:8080/",
          "height": 417
        },
        "id": "E7QwkBsgWOAe",
        "outputId": "fcd70ee3-da87-4587-8401-e8f51c5dff83"
      },
      "source": [
        "strix = 46166\n",
        "num = 200\n",
        "\n",
        "df_pred = pd.DataFrame({'Date' : df['Date'][strix:strix+num].values, 'Obs' : y_test[2800:3000].flatten(), 'Pred' : pred_mean.flatten(), 'Upper' : pred_mean + 1.96 * pred_std, 'Lower' : pred_mean - 1.96 * pred_std, 'Prob_adv' : prob_advisory, 'Prob_warn' : prob_warning})\n",
        "#df_pred = df_pred.merge(df[['Date', '10184110', '10184220']], how='left', on = 'Date')\n",
        "df_pred"
      ],
      "execution_count": null,
      "outputs": [
        {
          "output_type": "execute_result",
          "data": {
            "text/html": [
              "<div>\n",
              "<style scoped>\n",
              "    .dataframe tbody tr th:only-of-type {\n",
              "        vertical-align: middle;\n",
              "    }\n",
              "\n",
              "    .dataframe tbody tr th {\n",
              "        vertical-align: top;\n",
              "    }\n",
              "\n",
              "    .dataframe thead th {\n",
              "        text-align: right;\n",
              "    }\n",
              "</style>\n",
              "<table border=\"1\" class=\"dataframe\">\n",
              "  <thead>\n",
              "    <tr style=\"text-align: right;\">\n",
              "      <th></th>\n",
              "      <th>Date</th>\n",
              "      <th>Obs</th>\n",
              "      <th>Pred</th>\n",
              "      <th>Upper</th>\n",
              "      <th>Lower</th>\n",
              "      <th>Prob_adv</th>\n",
              "      <th>Prob_warn</th>\n",
              "    </tr>\n",
              "  </thead>\n",
              "  <tbody>\n",
              "    <tr>\n",
              "      <th>0</th>\n",
              "      <td>2020-08-05 15:00:00</td>\n",
              "      <td>1.79</td>\n",
              "      <td>1.888777</td>\n",
              "      <td>1.940214</td>\n",
              "      <td>1.837340</td>\n",
              "      <td>0.0</td>\n",
              "      <td>0.0</td>\n",
              "    </tr>\n",
              "    <tr>\n",
              "      <th>1</th>\n",
              "      <td>2020-08-05 16:00:00</td>\n",
              "      <td>1.75</td>\n",
              "      <td>1.871909</td>\n",
              "      <td>1.928711</td>\n",
              "      <td>1.815106</td>\n",
              "      <td>0.0</td>\n",
              "      <td>0.0</td>\n",
              "    </tr>\n",
              "    <tr>\n",
              "      <th>2</th>\n",
              "      <td>2020-08-05 17:00:00</td>\n",
              "      <td>1.72</td>\n",
              "      <td>1.815990</td>\n",
              "      <td>1.876959</td>\n",
              "      <td>1.755021</td>\n",
              "      <td>0.0</td>\n",
              "      <td>0.0</td>\n",
              "    </tr>\n",
              "    <tr>\n",
              "      <th>3</th>\n",
              "      <td>2020-08-05 18:00:00</td>\n",
              "      <td>1.69</td>\n",
              "      <td>1.793964</td>\n",
              "      <td>1.849384</td>\n",
              "      <td>1.738544</td>\n",
              "      <td>0.0</td>\n",
              "      <td>0.0</td>\n",
              "    </tr>\n",
              "    <tr>\n",
              "      <th>4</th>\n",
              "      <td>2020-08-05 19:00:00</td>\n",
              "      <td>1.67</td>\n",
              "      <td>1.760569</td>\n",
              "      <td>1.832553</td>\n",
              "      <td>1.688586</td>\n",
              "      <td>0.0</td>\n",
              "      <td>0.0</td>\n",
              "    </tr>\n",
              "    <tr>\n",
              "      <th>...</th>\n",
              "      <td>...</td>\n",
              "      <td>...</td>\n",
              "      <td>...</td>\n",
              "      <td>...</td>\n",
              "      <td>...</td>\n",
              "      <td>...</td>\n",
              "      <td>...</td>\n",
              "    </tr>\n",
              "    <tr>\n",
              "      <th>195</th>\n",
              "      <td>2020-08-13 18:00:00</td>\n",
              "      <td>3.25</td>\n",
              "      <td>3.455576</td>\n",
              "      <td>3.582164</td>\n",
              "      <td>3.328987</td>\n",
              "      <td>1.0</td>\n",
              "      <td>1.0</td>\n",
              "    </tr>\n",
              "    <tr>\n",
              "      <th>196</th>\n",
              "      <td>2020-08-13 19:00:00</td>\n",
              "      <td>3.20</td>\n",
              "      <td>3.362868</td>\n",
              "      <td>3.479977</td>\n",
              "      <td>3.245759</td>\n",
              "      <td>1.0</td>\n",
              "      <td>1.0</td>\n",
              "    </tr>\n",
              "    <tr>\n",
              "      <th>197</th>\n",
              "      <td>2020-08-13 20:00:00</td>\n",
              "      <td>3.13</td>\n",
              "      <td>3.338497</td>\n",
              "      <td>3.430835</td>\n",
              "      <td>3.246160</td>\n",
              "      <td>1.0</td>\n",
              "      <td>1.0</td>\n",
              "    </tr>\n",
              "    <tr>\n",
              "      <th>198</th>\n",
              "      <td>2020-08-13 21:00:00</td>\n",
              "      <td>3.05</td>\n",
              "      <td>3.236420</td>\n",
              "      <td>3.337853</td>\n",
              "      <td>3.134987</td>\n",
              "      <td>1.0</td>\n",
              "      <td>1.0</td>\n",
              "    </tr>\n",
              "    <tr>\n",
              "      <th>199</th>\n",
              "      <td>2020-08-13 22:00:00</td>\n",
              "      <td>2.96</td>\n",
              "      <td>3.145018</td>\n",
              "      <td>3.245964</td>\n",
              "      <td>3.044072</td>\n",
              "      <td>1.0</td>\n",
              "      <td>1.0</td>\n",
              "    </tr>\n",
              "  </tbody>\n",
              "</table>\n",
              "<p>200 rows × 7 columns</p>\n",
              "</div>"
            ],
            "text/plain": [
              "                   Date   Obs      Pred  ...     Lower  Prob_adv  Prob_warn\n",
              "0   2020-08-05 15:00:00  1.79  1.888777  ...  1.837340       0.0        0.0\n",
              "1   2020-08-05 16:00:00  1.75  1.871909  ...  1.815106       0.0        0.0\n",
              "2   2020-08-05 17:00:00  1.72  1.815990  ...  1.755021       0.0        0.0\n",
              "3   2020-08-05 18:00:00  1.69  1.793964  ...  1.738544       0.0        0.0\n",
              "4   2020-08-05 19:00:00  1.67  1.760569  ...  1.688586       0.0        0.0\n",
              "..                  ...   ...       ...  ...       ...       ...        ...\n",
              "195 2020-08-13 18:00:00  3.25  3.455576  ...  3.328987       1.0        1.0\n",
              "196 2020-08-13 19:00:00  3.20  3.362868  ...  3.245759       1.0        1.0\n",
              "197 2020-08-13 20:00:00  3.13  3.338497  ...  3.246160       1.0        1.0\n",
              "198 2020-08-13 21:00:00  3.05  3.236420  ...  3.134987       1.0        1.0\n",
              "199 2020-08-13 22:00:00  2.96  3.145018  ...  3.044072       1.0        1.0\n",
              "\n",
              "[200 rows x 7 columns]"
            ]
          },
          "metadata": {},
          "execution_count": 80
        }
      ]
    },
    {
      "cell_type": "code",
      "metadata": {
        "colab": {
          "base_uri": "https://localhost:8080/",
          "height": 428
        },
        "id": "WeR-8fLtXRXP",
        "outputId": "5cf497b8-cb1c-4c0d-bafb-f6c6033d0812"
      },
      "source": [
        "df_pred[['Date', 'Obs', 'Pred', 'Upper', 'Lower']].set_index('Date').plot(figsize=(20,6))"
      ],
      "execution_count": null,
      "outputs": [
        {
          "output_type": "execute_result",
          "data": {
            "text/plain": [
              "<matplotlib.axes._subplots.AxesSubplot at 0x7fab25596c10>"
            ]
          },
          "metadata": {},
          "execution_count": 81
        },
        {
          "output_type": "display_data",
          "data": {
            "image/png": "[encoded data removed]",
            "text/plain": [
              "<Figure size 1440x432 with 1 Axes>"
            ]
          },
          "metadata": {
            "needs_background": "light"
          }
        }
      ]
    }
  ]
}